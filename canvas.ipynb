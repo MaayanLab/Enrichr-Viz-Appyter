{
 "cells": [
  {
   "cell_type": "markdown",
   "metadata": {},
   "source": [
    "###Canvas Creation from Enrichr"
   ]
  },
  {
   "cell_type": "code",
   "execution_count": 43,
   "metadata": {},
   "outputs": [],
   "source": [
    "import pandas as pd \n",
    "import numpy as np\n",
    "import json\n",
    "import requests\n",
    "import matplotlib.pyplot as plt\n",
    "import seaborn as sns\n",
    "import time\n",
    "from matplotlib.ticker import MaxNLocator\n",
    "from IPython.display import display,FileLink, Markdown\n",
    "from matplotlib import colors"
   ]
  },
  {
   "cell_type": "code",
   "execution_count": 45,
   "metadata": {},
   "outputs": [
    {
     "output_type": "error",
     "ename": "FileNotFoundError",
     "evalue": "[Errno 2] No such file or directory: 'library.txt'",
     "traceback": [
      "\u001b[0;31m---------------------------------------------------------------------------\u001b[0m",
      "\u001b[0;31mFileNotFoundError\u001b[0m                         Traceback (most recent call last)",
      "\u001b[0;32m<ipython-input-45-c076ff50f92f>\u001b[0m in \u001b[0;36m<module>\u001b[0;34m\u001b[0m\n\u001b[1;32m     16\u001b[0m     \u001b[0mEnrichr_library_URL\u001b[0m \u001b[0;34m=\u001b[0m \u001b[0;34m'https://amp.pharm.mssm.edu/Enrichr/geneSetLibrary?mode=text&libraryName='\u001b[0m        \u001b[0;34m+\u001b[0m \u001b[0mlibrary_name\u001b[0m\u001b[0;34m\u001b[0m\u001b[0;34m\u001b[0m\u001b[0m\n\u001b[1;32m     17\u001b[0m     \u001b[0mr\u001b[0m \u001b[0;34m=\u001b[0m \u001b[0mrequests\u001b[0m\u001b[0;34m.\u001b[0m\u001b[0mget\u001b[0m\u001b[0;34m(\u001b[0m\u001b[0mEnrichr_library_URL\u001b[0m\u001b[0;34m,\u001b[0m \u001b[0mallow_redirects\u001b[0m\u001b[0;34m=\u001b[0m\u001b[0;32mTrue\u001b[0m\u001b[0;34m)\u001b[0m\u001b[0;34m\u001b[0m\u001b[0;34m\u001b[0m\u001b[0m\n\u001b[0;32m---> 18\u001b[0;31m     \u001b[0mopen\u001b[0m\u001b[0;34m(\u001b[0m\u001b[0;34m'library.txt'\u001b[0m\u001b[0;34m,\u001b[0m \u001b[0;34m'r'\u001b[0m\u001b[0;34m)\u001b[0m\u001b[0;34m.\u001b[0m\u001b[0mwrite\u001b[0m\u001b[0;34m(\u001b[0m\u001b[0mr\u001b[0m\u001b[0;34m.\u001b[0m\u001b[0mcontent\u001b[0m\u001b[0;34m)\u001b[0m\u001b[0;34m\u001b[0m\u001b[0;34m\u001b[0m\u001b[0m\n\u001b[0m\u001b[1;32m     19\u001b[0m     \u001b[0;32mwith\u001b[0m \u001b[0mopen\u001b[0m\u001b[0;34m(\u001b[0m\u001b[0;34m'library.txt'\u001b[0m\u001b[0;34m,\u001b[0m \u001b[0;34m'r'\u001b[0m\u001b[0;34m)\u001b[0m \u001b[0;32mas\u001b[0m \u001b[0mf\u001b[0m\u001b[0;34m:\u001b[0m\u001b[0;34m\u001b[0m\u001b[0;34m\u001b[0m\u001b[0m\n\u001b[1;32m     20\u001b[0m         \u001b[0;32mfor\u001b[0m \u001b[0mline\u001b[0m \u001b[0;32min\u001b[0m \u001b[0mf\u001b[0m\u001b[0;34m.\u001b[0m\u001b[0mreadlines\u001b[0m\u001b[0;34m(\u001b[0m\u001b[0;34m)\u001b[0m\u001b[0;34m:\u001b[0m\u001b[0;34m\u001b[0m\u001b[0;34m\u001b[0m\u001b[0m\n",
      "\u001b[0;31mFileNotFoundError\u001b[0m: [Errno 2] No such file or directory: 'library.txt'"
     ]
    }
   ],
   "source": [
    "bar_color = 'mediumforestgreen'\n",
    "bar_color_not_sig = 'lightgrey'\n",
    "edgecolor = None\n",
    "chart_type = \"Canvas\"\n",
    "all_libraries = ['ARCHS4_Cell-lines']\n",
    "\n",
    "# list of genes that was input\n",
    "genes = ['TP53', 'TNF', 'EGFR', 'GKN1', 'HADHA', 'APOE', 'ESR1']\n",
    "\n",
    "# need to download relevant Enrichr library. Then, the number of terms in that library is the number of hexagons we want. Each term has a certain number of genes associated with it, we compute the Jaccard index for that set and the input gene set, then color the respective hexagon. \n",
    "\n",
    "# NOTE: currently only covers case where these is one library\n",
    "library_data = []\n",
    "\n",
    "for library_name in all_libraries :\n",
    "    Enrichr_library_URL = 'https://amp.pharm.mssm.edu/Enrichr/geneSetLibrary?mode=text&libraryName='        + library_name\n",
    "    r = requests.get(Enrichr_library_URL, allow_redirects=True)\n",
    "    open('library.txt', 'r').write(r.content)\n",
    "    with open('library.txt', 'r') as f:\n",
    "        for line in f.readlines():\n",
    "            library_data.append(line.split('\\t\\t'))\n"
   ]
  },
  {
   "cell_type": "markdown",
   "metadata": {},
   "source": [
    "##Single canvas from a single library\n",
    "\n",
    "#Steps to creating a canvas:  \n",
    "1. Download library from Enrichr  \n",
    "2. Compute the Jaccard index between all sets in the library  \n",
    "3. Applying simulated annealing to determine where the hexagons should end up  \n",
    "4. Color the hexagons based on their index  \n",
    "5. Celebrate."
   ]
  },
  {
   "cell_type": "code",
   "execution_count": 16,
   "metadata": {},
   "outputs": [],
   "source": [
    "#%%\n",
    "import uuid\n",
    "from textwrap import dedent\n",
    "from IPython.core.display import display, HTML\n",
    "from string import Template"
   ]
  },
  {
   "cell_type": "code",
   "execution_count": 33,
   "metadata": {},
   "outputs": [],
   "source": [
    "# NOTE: your d3 code should basically be a function, in the future it would be best to take it out.\n",
    "\n",
    "def init_chart():\n",
    "  chart_id = 'mychart-' + str(uuid.uuid4())\n",
    "  display(HTML('<script src=\"/static/components/requirejs/require.js\"></script>'))\n",
    "  display(HTML(Template(dedent('''\n",
    "  <script>\n",
    "  require.config({\n",
    "    paths: {\n",
    "      'd3': 'https://cdnjs.cloudflare.com/ajax/libs/d3/5.16.0/d3.min',\n",
    "      'd3-hexbin': 'https://d3js.org/d3-hexbin.v0.2.min',\n",
    "    },\n",
    "    shim: {\n",
    "      'd3-hexbin': ['d3']\n",
    "    }\n",
    "  })\n",
    "\n",
    "  // If we configure mychart via url, we can eliminate this define here\n",
    "  define($chart_id, ['d3', 'd3-hexbin'], function(d3, d3_hexbin) {\n",
    "    return function (figure_id, numA, numB) {\n",
    "      var margin = {top: 50, right: 20, bottom: 20, left: 50},\n",
    "        width = 850 - margin.left - margin.right,\n",
    "        height = 350 - margin.top - margin.bottom;\n",
    "\n",
    "      // append the svg object to the body of the page\n",
    "      var svG = d3.select('#' + figure_id)\n",
    "        .attr(\"width\", width + margin.left + margin.right)\n",
    "        .attr(\"height\", height + margin.top + margin.bottom)\n",
    "        .append(\"g\")\n",
    "          .attr(\"transform\",\n",
    "                \"translate(\" + margin.left + \",\" + margin.top + \")\");\n",
    "      \n",
    "      //The number of columns and rows of the heatmap\n",
    "      var MapColumns = numA,\n",
    "          MapRows = numB;\n",
    "\n",
    "      //The maximum radius the hexagons can have to still fit the screen\n",
    "      var hexRadius = d3.min([width/((MapColumns + 0.5) * Math.sqrt(3)), height/((MapRows + 1/3) * 1.5)]);\n",
    "\n",
    "      //Calculate the center position of each hexagon\n",
    "      var points = [];\n",
    "      for (var i = 0; i < MapRows; i++) {\n",
    "          for (var j = 0; j < MapColumns; j++) {\n",
    "              var x = hexRadius * j * Math.sqrt(3)\n",
    "              //Offset each uneven row by half of a \"hex-width\" to the right\n",
    "              if(i%2 === 1) x += (hexRadius * Math.sqrt(3))/2\n",
    "              var y = hexRadius * i * 1.5\n",
    "              points.push([x,y])\n",
    "          }\n",
    "      }\n",
    "\n",
    "      //Set the hexagon radius\n",
    "      var hexbin = d3_hexbin.hexbin().radius(hexRadius);\n",
    "\n",
    "      svG.append(\"g\")\n",
    "        .selectAll(\".hexagon\")\n",
    "        .data(hexbin(points))\n",
    "        .enter().append(\"path\")\n",
    "        .attr(\"class\", \"hexagon\")\n",
    "        .attr(\"d\", function (d) {\n",
    "            return \"M\" + d.x + \",\" + d.y + hexbin.hexagon();\n",
    "        })\n",
    "        .attr(\"stroke\", \"white\")\n",
    "        .attr(\"stroke-width\", \"1px\")\n",
    "        .style(\"fill\", \"plum\");\n",
    "    }\n",
    "  })\n",
    "  </script>\n",
    "  ''')).substitute({ 'chart_id': repr(chart_id) })))\n",
    "  return chart_id\n",
    "\n",
    "def Canvas(numA, numB):\n",
    "  chart_id = init_chart()\n",
    "  display(HTML(Template(dedent('''\n",
    "  <svg id=$figure_id></svg>\n",
    "  <script>\n",
    "  require([$chart_id], function(mychart) {\n",
    "    mychart($figure_id, $numA, $numB)\n",
    "  })\n",
    "  </script>\n",
    "  ''')).substitute({\n",
    "      'chart_id': repr(chart_id),\n",
    "      'figure_id': repr('fig-' + str(uuid.uuid4())),\n",
    "      'numA': repr(numA),\n",
    "      'numB': repr(numB)\n",
    "  })))"
   ]
  },
  {
   "cell_type": "code",
   "execution_count": 35,
   "metadata": {},
   "outputs": [
    {
     "output_type": "display_data",
     "data": {
      "text/plain": "<IPython.core.display.HTML object>",
      "text/html": "<script src=\"/static/components/requirejs/require.js\"></script>"
     },
     "metadata": {}
    },
    {
     "output_type": "display_data",
     "data": {
      "text/plain": "<IPython.core.display.HTML object>",
      "text/html": "\n<script>\nrequire.config({\n  paths: {\n    'd3': 'https://cdnjs.cloudflare.com/ajax/libs/d3/5.16.0/d3.min',\n    'd3-hexbin': 'https://d3js.org/d3-hexbin.v0.2.min',\n  },\n  shim: {\n    'd3-hexbin': ['d3']\n  }\n})\n\n// If we configure mychart via url, we can eliminate this define here\ndefine('mychart-d8e4f8d8-86a2-4cf9-bfae-ec553fe4fc52', ['d3', 'd3-hexbin'], function(d3, d3_hexbin) {\n  return function (figure_id, numA, numB) {\n    var margin = {top: 50, right: 20, bottom: 20, left: 50},\n      width = 850 - margin.left - margin.right,\n      height = 350 - margin.top - margin.bottom;\n\n    // append the svg object to the body of the page\n    var svG = d3.select('#' + figure_id)\n      .attr(\"width\", width + margin.left + margin.right)\n      .attr(\"height\", height + margin.top + margin.bottom)\n      .append(\"g\")\n        .attr(\"transform\",\n              \"translate(\" + margin.left + \",\" + margin.top + \")\");\n\n    //The number of columns and rows of the heatmap\n    var MapColumns = numA,\n        MapRows = numB;\n\n    //The maximum radius the hexagons can have to still fit the screen\n    var hexRadius = d3.min([width/((MapColumns + 0.5) * Math.sqrt(3)), height/((MapRows + 1/3) * 1.5)]);\n\n    //Calculate the center position of each hexagon\n    var points = [];\n    for (var i = 0; i < MapRows; i++) {\n        for (var j = 0; j < MapColumns; j++) {\n            var x = hexRadius * j * Math.sqrt(3)\n            //Offset each uneven row by half of a \"hex-width\" to the right\n            if(i%2 === 1) x += (hexRadius * Math.sqrt(3))/2\n            var y = hexRadius * i * 1.5\n            points.push([x,y])\n        }\n    }\n\n    //Set the hexagon radius\n    var hexbin = d3_hexbin.hexbin().radius(hexRadius);\n\n    svG.append(\"g\")\n      .selectAll(\".hexagon\")\n      .data(hexbin(points))\n      .enter().append(\"path\")\n      .attr(\"class\", \"hexagon\")\n      .attr(\"d\", function (d) {\n          return \"M\" + d.x + \",\" + d.y + hexbin.hexagon();\n      })\n      .attr(\"stroke\", \"white\")\n      .attr(\"stroke-width\", \"1px\")\n      .style(\"fill\", \"plum\");\n  }\n})\n</script>\n"
     },
     "metadata": {}
    },
    {
     "output_type": "display_data",
     "data": {
      "text/plain": "<IPython.core.display.HTML object>",
      "text/html": "\n<svg id='fig-bbe1d260-5978-4137-a077-3c144e4f39c0'></svg>\n<script>\nrequire(['mychart-d8e4f8d8-86a2-4cf9-bfae-ec553fe4fc52'], function(mychart) {\n  mychart('fig-bbe1d260-5978-4137-a077-3c144e4f39c0', 30, 30)\n})\n</script>\n"
     },
     "metadata": {}
    }
   ],
   "source": [
    "Canvas(30, 30)"
   ]
  },
  {
   "cell_type": "code",
   "execution_count": null,
   "metadata": {},
   "outputs": [],
   "source": []
  }
 ],
 "metadata": {
  "language_info": {
   "codemirror_mode": {
    "name": "ipython",
    "version": 3
   },
   "file_extension": ".py",
   "mimetype": "text/x-python",
   "name": "python",
   "nbconvert_exporter": "python",
   "pygments_lexer": "ipython3",
   "version": "3.7.6-final"
  },
  "orig_nbformat": 2,
  "kernelspec": {
   "name": "python37664bitbasecondad81f4d096e8b4b9885e3d702e0bb3be1",
   "display_name": "Python 3.7.6 64-bit ('base': conda)"
  }
 },
 "nbformat": 4,
 "nbformat_minor": 2
}