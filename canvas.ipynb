{
 "cells": [
  {
   "cell_type": "markdown",
   "metadata": {},
   "source": [
    "###Canvas Creation from Enrichr"
   ]
  },
  {
   "cell_type": "code",
   "execution_count": 27,
   "metadata": {},
   "outputs": [],
   "source": [
    "import pandas as pd \n",
    "import numpy as np\n",
    "import json\n",
    "import requests\n",
    "import matplotlib.pyplot as plt\n",
    "import seaborn as sns\n",
    "import time\n",
    "import matplotlib\n",
    "from matplotlib.ticker import MaxNLocator\n",
    "from IPython.display import display,FileLink, Markdown\n",
    "from matplotlib import colors"
   ]
  },
  {
   "cell_type": "markdown",
   "metadata": {},
   "source": [
    "Below this is arbitrary definitions for these variables, their actual values will be selected in the Appyter (so DON'T ADD BELOW CELL TO APPYTER)"
   ]
  },
  {
   "cell_type": "code",
   "execution_count": 77,
   "metadata": {},
   "outputs": [],
   "source": [
    "bar_color = 'mediumforestgreen'\n",
    "bar_color_not_sig = 'lightgrey'\n",
    "edgecolor = None\n",
    "chart_type = \"Canvas\"\n",
    "all_libraries = ['ClinVar_2019']\n",
    "color = 'lightpink'\n",
    "\n",
    "# list of genes that was input\n",
    "genes = ['TP53', 'TNF', 'EGFR', 'GKN1', 'HADHA', 'APOE', 'ESR1', 'VEGFA', 'TGFB1', 'PREPL', 'TIA1', 'TPO', 'TTN', 'SATB2', 'CHPF', 'MALL', 'MIPIP', 'NUPL1', 'IL6', 'PDIA3', 'CTNNB1', 'SLC39A1', 'DTNA','SLC1A1', 'GALNT2', 'HIST2H2AC', 'CD63']"
   ]
  },
  {
   "cell_type": "code",
   "execution_count": 78,
   "metadata": {
    "tags": [
     "outputPrepend"
    ]
   },
   "outputs": [],
   "source": [
    "# NOTE: currently only covers case where these is one library\n",
    "raw_library_data = []\n",
    "library_data = []\n",
    "\n",
    "for library_name in all_libraries:\n",
    "    with open('Enrichr-Libraries/'+library_name, 'r') as f:\n",
    "        for line in f.readlines():\n",
    "            raw_library_data.append(line.split(\"\\t\\t\"))\n",
    "name = []\n",
    "gene_list = []\n",
    "\n",
    "for i in range(len(raw_library_data)):\n",
    "    name += [raw_library_data[i][0]]\n",
    "    raw_genes = raw_library_data[i][1].split(\"\\t\")\n",
    "    gene_list += [raw_genes[:-1]]\n",
    "\n",
    "library_data = [list(a) for a in zip(name, gene_list)]\n",
    "\n",
    "# library_data: a 2D list where the first element is the name and the second element is a list of genes associated with that name\n",
    "\n",
    "jaccard_indices = []\n",
    "indices = []\n",
    "\n",
    "for gene_set in library_data:\n",
    "    intersection = [value for value in gene_set[1] if value in genes]\n",
    "    index = len(intersection)/(len(gene_set[1]) + len(genes))\n",
    "    jaccard_indices += [[gene_set[0], index]]\n",
    "    indices += [round(index, 5)]\n",
    "\n",
    "# color options: red, blue, green. grey, orange, purple, yellow, pink\n",
    "r_value = 0\n",
    "g_value = 0\n",
    "b_value = 0\n",
    "\n",
    "if color == 'tomato':\n",
    "    r_value = 10\n",
    "    g_value = 3\n",
    "    b_value = 3\n",
    "if color == 'lightskyblue':\n",
    "    r_value = 0\n",
    "    g_value = 3\n",
    "    b_value = 10\n",
    "if color == 'plum':\n",
    "    r_value = 5\n",
    "    g_value = 0\n",
    "    b_value = 10\n",
    "if color == 'mediumspringgreen':\n",
    "    r_value = 0\n",
    "    g_value = 10\n",
    "    b_value = 2\n",
    "if color == 'lightgrey':\n",
    "    r_value = 10\n",
    "    g_value = 10\n",
    "    b_value = 10\n",
    "if color == 'orange':\n",
    "    r_value = 10\n",
    "    g_value = 5.5\n",
    "    b_value = 0\n",
    "if color == 'lightpink':\n",
    "    r_value = 10\n",
    "    g_value = 0\n",
    "    b_value = 10\n",
    "if color == 'yellow':\n",
    "    r_value = 10\n",
    "    g_value = 9\n",
    "    b_value = 0\n",
    "\n",
    "color_list = []\n",
    "\n",
    "for i in range(256):\n",
    "    if i < len(indices):\n",
    "        color_list += [matplotlib.colors.to_hex((indices[i]*r_value, indices[i]*g_value, \n",
    "        indices[i]*b_value))]\n",
    "    else:\n",
    "        color_list += [\"#000000\"]"
   ]
  },
  {
   "cell_type": "markdown",
   "metadata": {},
   "source": [
    "##Single canvas from a single library\n",
    "\n",
    "#Steps to creating a canvas:  \n",
    "1. Open downloaded library from Enrichr  \n",
    "2. Compute the Jaccard index between all sets in the library  \n",
    "3. Applying simulated annealing to determine where the hexagons should end up  \n",
    "4. Color the hexagons based on their index  \n",
    "5. Celebrate."
   ]
  },
  {
   "cell_type": "code",
   "execution_count": 79,
   "metadata": {},
   "outputs": [],
   "source": [
    "import uuid\n",
    "from textwrap import dedent\n",
    "from IPython.core.display import display, HTML\n",
    "from string import Template"
   ]
  },
  {
   "cell_type": "code",
   "execution_count": 80,
   "metadata": {},
   "outputs": [],
   "source": [
    "# NOTE: your d3 code should basically be a function, in the future it would be best to take it out.\n",
    "\n",
    "def init_chart():\n",
    "  chart_id = 'mychart-' + str(uuid.uuid4())\n",
    "  display(HTML('<script src=\"/static/components/requirejs/require.js\"></script>'))\n",
    "  display(HTML(Template(dedent('''\n",
    "  <script>\n",
    "  require.config({\n",
    "    paths: {\n",
    "      'd3': 'https://cdnjs.cloudflare.com/ajax/libs/d3/5.16.0/d3.min',\n",
    "      'd3-hexbin': 'https://d3js.org/d3-hexbin.v0.2.min',\n",
    "    },\n",
    "    shim: {\n",
    "      'd3-hexbin': ['d3']\n",
    "    }\n",
    "  })\n",
    "\n",
    "  // If we configure mychart via url, we can eliminate this define here\n",
    "  define($chart_id, ['d3', 'd3-hexbin'], function(d3, d3_hexbin) {\n",
    "    return function (figure_id, numA, numB, colorList, libraryList, indices) {\n",
    "      var margin = {top: 50, right: 20, bottom: 20, left: 50},\n",
    "        width = 850 - margin.left - margin.right,\n",
    "        height = 350 - margin.top - margin.bottom;\n",
    "\n",
    "      // append the svg object to the body of the page\n",
    "      var svG = d3.select('#' + figure_id)\n",
    "        .attr(\"width\", width + margin.left + margin.right)\n",
    "        .attr(\"height\", height + margin.top + margin.bottom)\n",
    "        .append(\"g\")\n",
    "          .attr(\"transform\",\n",
    "                \"translate(\" + margin.left + \",\" + margin.top + \")\");\n",
    "      \n",
    "      //The number of columns and rows of the heatmap\n",
    "      var MapColumns = numA,\n",
    "          MapRows = numB;\n",
    "\n",
    "      //The maximum radius the hexagons can have to still fit the screen\n",
    "      var hexRadius = d3.min([width/((MapColumns + 0.5) * Math.sqrt(3)), height/((MapRows + 1/3) * 1.5)]);\n",
    "\n",
    "      //Calculate the center position of each hexagon\n",
    "      var points = [];\n",
    "      for (var i = 0; i < MapRows; i++) {\n",
    "          for (var j = 0; j < MapColumns; j++) {\n",
    "              var x = hexRadius * j * Math.sqrt(3)\n",
    "              //Offset each uneven row by half of a \"hex-width\" to the right\n",
    "              if(i%2 === 1) x += (hexRadius * Math.sqrt(3))/2\n",
    "              var y = hexRadius * i * 1.5\n",
    "              points.push([x,y])\n",
    "          }\n",
    "      }\n",
    "\n",
    "      //Set the hexagon radius\n",
    "      var hexbin = d3_hexbin.hexbin().radius(hexRadius);\n",
    "\n",
    "      svG.append(\"g\")\n",
    "        .selectAll(\".hexagon\")\n",
    "        .data(hexbin(points))\n",
    "        .enter().append(\"path\")\n",
    "        .attr(\"class\", \"hexagon\")\n",
    "        .attr(\"d\", function (d) {\n",
    "            return \"M\" + d.x + \",\" + d.y + hexbin.hexagon();\n",
    "        })\n",
    "        .attr(\"stroke\", \"white\")\n",
    "        .attr(\"stroke-width\", \"1px\")\n",
    "        .style(\"fill\", function (d,i) { return colorList[i]; })\n",
    "        .on(\"mouseover\", mover)\n",
    "        .on(\"mouseout\", mout)\n",
    "        .append(\"svg:title\")\n",
    "        .text(function(d,i) { return libraryList[i].concat(\" \").concat(indices[i]); });\n",
    "\n",
    "      function mover(d) {\n",
    "      d3.select(this)\n",
    "        .transition().duration(10)  \n",
    "        .style(\"fill-opacity\", 0.3)\n",
    "      }\n",
    "\n",
    "      //Mouseout function\n",
    "      function mout(d) { \n",
    "      d3.select(this)\n",
    "        .transition().duration(10)\n",
    "        .style(\"fill-opacity\", 1)\n",
    "      }\n",
    "\n",
    "    }\n",
    "  })\n",
    "  </script>\n",
    "  ''')).substitute({ 'chart_id': repr(chart_id) })))\n",
    "  return chart_id\n",
    "\n",
    "def Canvas(numA, numB, colorList, libraryList, indices):\n",
    "  chart_id = init_chart()\n",
    "  display(HTML(Template(dedent('''\n",
    "  <svg id=$figure_id></svg>\n",
    "  <script>\n",
    "  require([$chart_id], function(mychart) {\n",
    "    mychart($figure_id, $numA, $numB, $colorList, $libraryList, $indices)\n",
    "  })\n",
    "  </script>\n",
    "  ''')).substitute({\n",
    "      'chart_id': repr(chart_id),\n",
    "      'figure_id': repr('fig-' + str(uuid.uuid4())),\n",
    "      'numA': repr(numA),\n",
    "      'numB': repr(numB),\n",
    "      'colorList': repr(color_list),\n",
    "      'libraryList': repr(name),\n",
    "      'indices': repr(indices)\n",
    "  })))"
   ]
  },
  {
   "cell_type": "code",
   "execution_count": 81,
   "metadata": {},
   "outputs": [
    {
     "output_type": "display_data",
     "data": {
      "text/plain": "<IPython.core.display.HTML object>",
      "text/html": "<script src=\"/static/components/requirejs/require.js\"></script>"
     },
     "metadata": {}
    },
    {
     "output_type": "display_data",
     "data": {
      "text/plain": "<IPython.core.display.HTML object>",
      "text/html": "\n<script>\nrequire.config({\n  paths: {\n    'd3': 'https://cdnjs.cloudflare.com/ajax/libs/d3/5.16.0/d3.min',\n    'd3-hexbin': 'https://d3js.org/d3-hexbin.v0.2.min',\n  },\n  shim: {\n    'd3-hexbin': ['d3']\n  }\n})\n\n// If we configure mychart via url, we can eliminate this define here\ndefine('mychart-5bc329bc-6602-486d-b093-7d1001e1a68f', ['d3', 'd3-hexbin'], function(d3, d3_hexbin) {\n  return function (figure_id, numA, numB, colorList, libraryList, indices) {\n    var margin = {top: 50, right: 20, bottom: 20, left: 50},\n      width = 850 - margin.left - margin.right,\n      height = 350 - margin.top - margin.bottom;\n\n    // append the svg object to the body of the page\n    var svG = d3.select('#' + figure_id)\n      .attr(\"width\", width + margin.left + margin.right)\n      .attr(\"height\", height + margin.top + margin.bottom)\n      .append(\"g\")\n        .attr(\"transform\",\n              \"translate(\" + margin.left + \",\" + margin.top + \")\");\n\n    //The number of columns and rows of the heatmap\n    var MapColumns = numA,\n        MapRows = numB;\n\n    //The maximum radius the hexagons can have to still fit the screen\n    var hexRadius = d3.min([width/((MapColumns + 0.5) * Math.sqrt(3)), height/((MapRows + 1/3) * 1.5)]);\n\n    //Calculate the center position of each hexagon\n    var points = [];\n    for (var i = 0; i < MapRows; i++) {\n        for (var j = 0; j < MapColumns; j++) {\n            var x = hexRadius * j * Math.sqrt(3)\n            //Offset each uneven row by half of a \"hex-width\" to the right\n            if(i%2 === 1) x += (hexRadius * Math.sqrt(3))/2\n            var y = hexRadius * i * 1.5\n            points.push([x,y])\n        }\n    }\n\n    //Set the hexagon radius\n    var hexbin = d3_hexbin.hexbin().radius(hexRadius);\n\n    svG.append(\"g\")\n      .selectAll(\".hexagon\")\n      .data(hexbin(points))\n      .enter().append(\"path\")\n      .attr(\"class\", \"hexagon\")\n      .attr(\"d\", function (d) {\n          return \"M\" + d.x + \",\" + d.y + hexbin.hexagon();\n      })\n      .attr(\"stroke\", \"white\")\n      .attr(\"stroke-width\", \"1px\")\n      .style(\"fill\", function (d,i) { return colorList[i]; })\n      .on(\"mouseover\", mover)\n      .on(\"mouseout\", mout)\n      .append(\"svg:title\")\n      .text(function(d,i) { return libraryList[i].concat(\" \").concat(indices[i]); });\n\n    function mover(d) {\n    d3.select(this)\n      .transition().duration(10)  \n      .style(\"fill-opacity\", 0.3)\n    }\n\n    //Mouseout function\n    function mout(d) { \n    d3.select(this)\n      .transition().duration(10)\n      .style(\"fill-opacity\", 1)\n    }\n\n  }\n})\n</script>\n"
     },
     "metadata": {}
    },
    {
     "output_type": "display_data",
     "data": {
      "text/plain": "<IPython.core.display.HTML object>",
      "text/html": "\n<svg id='fig-210f5627-573b-4fee-9fa2-3e86b4675670'></svg>\n<script>\nrequire(['mychart-5bc329bc-6602-486d-b093-7d1001e1a68f'], function(mychart) {\n  mychart('fig-210f5627-573b-4fee-9fa2-3e86b4675670', 13, 14, ['#000000', '#000000', '#000000', '#000000', '#000000', '#400040', '#000000', '#000000', '#450045', '#000000', '#000000', '#000000', '#000000', '#430043', '#450045', '#000000', '#000000', '#000000', '#000000', '#000000', '#000000', '#000000', '#000000', '#000000', '#590059', '#220022', '#000000', '#000000', '#000000', '#000000', '#000000', '#000000', '#000000', '#000000', '#000000', '#000000', '#4d004d', '#000000', '#000000', '#000000', '#000000', '#000000', '#000000', '#000000', '#000000', '#000000', '#000000', '#000000', '#000000', '#430043', '#000000', '#000000', '#000000', '#000000', '#000000', '#000000', '#000000', '#000000', '#000000', '#5e005e', '#000000', '#2d002d', '#000000', '#000000', '#000000', '#000000', '#000000', '#000000', '#000000', '#000000', '#960096', '#000000', '#000000', '#000000', '#8e008e', '#000000', '#000000', '#000000', '#000000', '#000000', '#000000', '#000000', '#000000', '#000000', '#000000', '#000000', '#000000', '#490049', '#000000', '#000000', '#000000', '#000000', '#000000', '#000000', '#000000', '#000000', '#000000', '#000000', '#000000', '#000000', '#000000', '#000000', '#310031', '#3e003e', '#000000', '#3e003e', '#000000', '#000000', '#000000', '#000000', '#000000', '#000000', '#000000', '#000000', '#4b004b', '#000000', '#000000', '#000000', '#000000', '#000000', '#000000', '#400040', '#000000', '#000000', '#000000', '#000000', '#3e003e', '#4d004d', '#000000', '#5e005e', '#330033', '#000000', '#000000', '#000000', '#000000', '#000000', '#000000', '#000000', '#000000', '#000000', '#000000', '#000000', '#000000', '#000000', '#000000', '#000000', '#000000', '#000000', '#000000', '#000000', '#000000', '#000000', '#000000', '#000000', '#000000', '#000000', '#000000', '#000000', '#000000', '#2a002a', '#340034', '#000000', '#000000', '#000000', '#000000', '#000000', '#000000', '#000000', '#000000', '#370037', '#000000', '#000000', '#000000', '#000000', '#3b003b', '#000000', '#000000', '#000000', '#000000', '#000000', '#000000', '#000000', '#000000', '#000000', '#000000', '#000000', '#000000', '#000000', '#000000', '#000000', '#000000', '#000000', '#000000', '#000000', '#000000', '#000000', '#000000', '#000000', '#000000', '#000000', '#000000', '#000000', '#000000', '#000000', '#000000', '#000000', '#000000', '#000000', '#000000', '#000000', '#000000', '#000000', '#000000', '#000000', '#000000', '#000000', '#000000', '#000000', '#000000', '#000000', '#000000', '#000000', '#000000', '#000000', '#000000', '#000000', '#000000', '#000000', '#000000', '#000000', '#000000', '#000000', '#000000', '#000000', '#000000', '#000000', '#000000', '#000000', '#000000', '#000000', '#000000', '#000000', '#000000', '#000000', '#000000', '#000000', '#000000', '#000000', '#000000', '#000000', '#000000', '#000000', '#000000', '#000000', '#000000', '#000000'], ['4p partial monosomy syndrome', 'achromatopsia', 'acute lymphoid leukemia', 'acute myeloid leukemia', 'adult junctional epidermolysis bullosa', 'age-related macular degeneration', 'aicardi goutieres syndrome', 'alpha-dystroglycan related dystrophy', \"alzheimer's disease\", 'amyotrophic lateral sclerosis', 'anophthalmia-microphthalmia syndrome', 'aplastic anemia', 'arrhythmogenic right ventricular cardiomyopathy', 'ashkenazi jewish disorders', 'asthma, susceptibility to', 'atrial fibrillation', 'atrial septal defect', 'atypical hemolytic uremic syndrome', 'autism spectrum disorder', 'autoimmune lymphoproliferative syndrome', 'autosomal dominant non-syndromic sensorineural deafness type dfna', 'bardet-biedl syndrome', 'beckwith-wiedemann syndrome', 'brugada syndrome', 'carcinoma of colon', 'cardiomyopathy', 'charcot-marie-tooth disease', 'charcot-marie-tooth disease type 4', 'charcot-marie-tooth disease, type 2', 'charcot-marie-tooth disease, type i', 'chronic granulomatous disease', 'combined oxidative phosphorylation deficiency', 'common variable immunodeficiency 2', 'congenital adrenal hyperplasia', 'congenital central hypoventilation', 'congenital disorder of glycosylation', 'congenital hypothyroidism', 'congenital ichthyosis of skin', 'congenital muscular dystrophy', 'congenital myasthenic syndrome', 'congenital myopathy with fiber type disproportion', 'craniosynostosis syndrome', 'cutaneous melanoma', 'cutis laxa, autosomal recessive', 'de lange syndrome', 'diabetes mellitus type 2', 'diamond-blackfan anemia', 'disorder of amino acid metabolism', 'disorder of endocrine system', 'disorder of fatty acid metabolism', 'disorder of organic acid metabolism', 'disorder of the urea cycle metabolism', 'disorders of intracellular cobalamin metabolism', 'distal arthrogryposis', 'distal hereditary motor neuronopathy', 'dyskeratosis congenita', 'epidermolysis bullosa, junctional', 'essential hypertension', 'familial adenomatous polyposis 1', 'familial cancer of breast', 'familial colorectal cancer', 'familial dilated cardiomyopathy', 'familial erythrocytosis', 'familial hypercholesterolemia', 'familial hypercholesterolemias', 'familial hyperinsulinism', 'familial partial lipodystrophy', 'fanconi anemia', 'galloway-mowat syndrome', 'glaucoma', 'glioma', 'glycogen storage disease', 'hemolytic-uremic syndrome', 'hepatic failure, early-onset, and neurologic disorder due to cytochrome c oxidase deficiency', 'hepatocellular carcinoma', 'hereditary cutaneous melanoma', 'hereditary hearing loss and deafness', 'hereditary hemochromatosis', 'hereditary nephrotic syndrome', 'hereditary pancreatitis', 'hereditary paraganglioma-pheochromocytoma syndromes', 'hereditary spherocytosis', 'hermansky-pudlak syndrome', 'hirschsprung disease', 'holoprosencephaly sequence', 'human immunodeficiency virus type 1, susceptibility to', 'hyperekplexia', 'hyperlipoproteinemia', 'hyperphosphatasia-intellectual disability syndrome', 'hypogonadism with anosmia', 'hypogonadotropic hypogonadism 7 with or without anosmia', 'idiopathic generalized epilepsy', 'intervertebral disc disorder', 'ischemic stroke', 'jarcho-levin syndrome', 'joubert syndrome', 'juvenile myopathy, encephalopathy, lactic acidosis and stroke', 'leber congenital amaurosis', \"leber's optic atrophy\", 'leigh syndrome', 'leukoencephalopathy with vanishing white matter', 'limb-girdle muscular dystrophies, autosomal dominant', 'limb-girdle muscular dystrophy', 'limb-girdle muscular dystrophy, autosomal recessive', 'lissencephaly', 'lung cancer', 'lynch syndrome', 'malformation of cortical development', 'malignant melanoma of skin', 'malignant tumor of esophagus', 'malignant tumor of prostate', 'meckel-gruber syndrome', 'meningioma, familial', 'methylmalonic acidemia', 'microvascular complications of diabetes', 'mitochondrial diseases', 'mitochondrial dna deletion syndromes', 'mitochondrial dna-associated leigh syndrome and narp', 'multiple epiphyseal dysplasia, dominant', 'muscular dystrophy-dystroglycanopathy (congenital with brain and eye anomalies), type a, 1', 'mycobacterium tuberculosis, susceptibility to', 'myocardial infarction 1', 'myoclonus with epilepsy with ragged red fibers', 'myofibrillar myopathy', 'nemaline myopathy', 'neonatal diabetes mellitus', 'neoplasm of lung', 'neoplasm of ovary', 'neoplasm of stomach', 'neoplasm of the breast', 'neoplasm of the genitourinary tract', 'nephroblastoma', 'nephronophthisis', 'neural tube defect', 'neurodegeneration with brain iron accumulation', 'neuronal ceroid lipofuscinosis', 'non-hodgkin lymphoma', 'nonsyndromic hearing loss and deafness', 'nonsyndromic hearing loss and deafness, autosomal recessive', 'noonan syndrome', 'obesity', 'oculocutaneous albinism', 'orofacial cleft', 'osteogenesis imperfecta', 'parkinson disease', 'parkinson disease, late-onset', 'permanent neonatal diabetes mellitus', 'peroxisome biogenesis disorders', 'peroxisome biogenesis disorders, zellweger syndrome spectrum', 'perrault syndrome', 'pheochromocytoma', 'pituitary hormone deficiency, combined', 'pontocerebellar hypoplasia type 2', 'pontoneocerebellar hypoplasia', 'postmenopausal osteoporosis', 'prader-willi syndrome', 'premature ovarian failure', 'primary autosomal recessive microcephaly', 'primary ciliary dyskinesia', 'primary dilated cardiomyopathy', 'primary familial hypertrophic cardiomyopathy', 'pure gonadal dysgenesis 46,xy', 'pyruvate dehydrogenase complex deficiency', 'rasopathy', 'renal cell carcinoma, nonpapillary', 'renal dysplasia and retinal aplasia', 'retinitis pigmentosa', 'rheumatoid arthritis', 'romano-ward syndrome', 'schizophrenia', 'severe congenital neutropenia', 'shprintzen syndrome', 'spermatogenic failure, y-linked 2', 'stickler syndrome', 'susceptibility to malaria', 'systemic lupus erythematosus', 'tetralogy of fallot', 'thoracic aortic aneurysm and aortic dissection', 'usher syndrome, type 1', 'venous thrombosis', 'wilms tumor 1', 'xeroderma pigmentosum'], [0.0, 0.0, 0.0, 0.0, 0.0, 0.025, 0.0, 0.0, 0.02703, 0.0, 0.0, 0.0, 0.0, 0.02632, 0.02703, 0.0, 0.0, 0.0, 0.0, 0.0, 0.0, 0.0, 0.0, 0.0, 0.03509, 0.01333, 0.0, 0.0, 0.0, 0.0, 0.0, 0.0, 0.0, 0.0, 0.0, 0.0, 0.0303, 0.0, 0.0, 0.0, 0.0, 0.0, 0.0, 0.0, 0.0, 0.0, 0.0, 0.0, 0.0, 0.02632, 0.0, 0.0, 0.0, 0.0, 0.0, 0.0, 0.0, 0.0, 0.0, 0.03704, 0.0, 0.01754, 0.0, 0.0, 0.0, 0.0, 0.0, 0.0, 0.0, 0.0, 0.05882, 0.0, 0.0, 0.0, 0.05556, 0.0, 0.0, 0.0, 0.0, 0.0, 0.0, 0.0, 0.0, 0.0, 0.0, 0.0, 0.0, 0.02857, 0.0, 0.0, 0.0, 0.0, 0.0, 0.0, 0.0, 0.0, 0.0, 0.0, 0.0, 0.0, 0.0, 0.0, 0.01923, 0.02439, 0.0, 0.02439, 0.0, 0.0, 0.0, 0.0, 0.0, 0.0, 0.0, 0.0, 0.02941, 0.0, 0.0, 0.0, 0.0, 0.0, 0.0, 0.025, 0.0, 0.0, 0.0, 0.0, 0.02439, 0.0303, 0.0, 0.03704, 0.02, 0.0, 0.0, 0.0, 0.0, 0.0, 0.0, 0.0, 0.0, 0.0, 0.0, 0.0, 0.0, 0.0, 0.0, 0.0, 0.0, 0.0, 0.0, 0.0, 0.0, 0.0, 0.0, 0.0, 0.0, 0.0, 0.0, 0.0, 0.0, 0.01639, 0.02041, 0.0, 0.0, 0.0, 0.0, 0.0, 0.0, 0.0, 0.0, 0.02174, 0.0, 0.0, 0.0, 0.0, 0.02326, 0.0, 0.0, 0.0, 0.0, 0.0, 0.0, 0.0])\n})\n</script>\n"
     },
     "metadata": {}
    }
   ],
   "source": [
    "Canvas(13, 14, color_list, name, indices)"
   ]
  }
 ],
 "metadata": {
  "kernelspec": {
   "display_name": "Python 3.7.6 64-bit ('base': conda)",
   "language": "python",
   "name": "python37664bitbasecondad81f4d096e8b4b9885e3d702e0bb3be1"
  },
  "language_info": {
   "codemirror_mode": {
    "name": "ipython",
    "version": 3
   },
   "file_extension": ".py",
   "mimetype": "text/x-python",
   "name": "python",
   "nbconvert_exporter": "python",
   "pygments_lexer": "ipython3",
   "version": "3.7.6-final"
  }
 },
 "nbformat": 4,
 "nbformat_minor": 2
}