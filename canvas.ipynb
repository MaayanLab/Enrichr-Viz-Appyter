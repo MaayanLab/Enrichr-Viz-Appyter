{
 "cells": [
  {
   "cell_type": "markdown",
   "metadata": {},
   "source": [
    "###Canvas Creation from Enrichr"
   ]
  },
  {
   "cell_type": "code",
   "execution_count": 86,
   "metadata": {},
   "outputs": [],
   "source": [
    "import pandas as pd \n",
    "import numpy as np\n",
    "import json\n",
    "import requests\n",
    "import matplotlib.pyplot as plt\n",
    "import seaborn as sns\n",
    "import time\n",
    "import math\n",
    "import matplotlib\n",
    "from matplotlib.ticker import MaxNLocator\n",
    "from IPython.display import display,FileLink, Markdown\n",
    "from matplotlib import colors"
   ]
  },
  {
   "cell_type": "markdown",
   "metadata": {},
   "source": [
    "Below this is arbitrary definitions for these variables, their actual values will be selected in the Appyter (so DON'T ADD BELOW CELL TO APPYTER)"
   ]
  },
  {
   "cell_type": "code",
   "execution_count": 138,
   "metadata": {},
   "outputs": [],
   "source": [
    "bar_color = 'mediumforestgreen'\n",
    "bar_color_not_sig = 'lightgrey'\n",
    "edgecolor = None\n",
    "chart_type = \"Canvas\"\n",
    "all_libraries = ['GO_Cellular_Component_2013']\n",
    "color = 'yellow'\n",
    "\n",
    "# list of genes that was input\n",
    "genes = ['TP53', 'TNF', 'EGFR', 'GKN1', 'HADHA', 'APOE', 'ESR1', 'VEGFA', 'TGFB1', 'PREPL', 'TIA1', 'TPO', 'TTN', 'SATB2', 'CHPF', 'MALL', 'MIPIP', 'NUPL1', 'IL6', 'PDIA3', 'CTNNB1', 'SLC39A1', 'DTNA','SLC1A1', 'GALNT2', 'HIST2H2AC', 'CD63']"
   ]
  },
  {
   "cell_type": "code",
   "execution_count": 134,
   "metadata": {
    "tags": [
     "outputPrepend"
    ]
   },
   "outputs": [],
   "source": [
    "# NOTE: currently only covers case where these is one library\n",
    "raw_library_data = []\n",
    "library_data = []\n",
    "\n",
    "for library_name in all_libraries:\n",
    "    with open('Enrichr-Libraries/'+library_name, 'r') as f:\n",
    "        for line in f.readlines():\n",
    "            raw_library_data.append(line.split(\"\\t\\t\"))\n",
    "name = []\n",
    "gene_list = []\n",
    "\n",
    "for i in range(len(raw_library_data)):\n",
    "    name += [raw_library_data[i][0]]\n",
    "    raw_genes = raw_library_data[i][1].split(\"\\t\")\n",
    "    gene_list += [raw_genes[:-1]]\n",
    "\n",
    "library_data = [list(a) for a in zip(name, gene_list)]\n",
    "\n",
    "# library_data: a 2D list where the first element is the name and the second element is a list of genes associated with that name\n",
    "\n",
    "jaccard_indices = []\n",
    "indices = []\n",
    "\n",
    "for gene_set in library_data:\n",
    "    intersection = [value for value in gene_set[1] if value in genes]\n",
    "    index = len(intersection)/(len(gene_set[1]) + len(genes))\n",
    "    jaccard_indices += [[gene_set[0], index]]\n",
    "    indices += [round(index, 5)]"
   ]
  },
  {
   "cell_type": "code",
   "execution_count": 124,
   "metadata": {},
   "outputs": [],
   "source": [
    "# determine the dimensions of the canvas\n",
    "# currently only makes squares which is not the most efficient\n",
    "\n",
    "x_dimension = math.ceil(math.sqrt(len(indices)))\n",
    "y_dimension = math.ceil(math.sqrt(len(indices)))"
   ]
  },
  {
   "cell_type": "code",
   "execution_count": 139,
   "metadata": {},
   "outputs": [],
   "source": [
    "# color options: red, blue, green. grey, orange, purple, yellow, pink\n",
    "r_value = 0\n",
    "g_value = 0\n",
    "b_value = 0\n",
    "\n",
    "if color == 'tomato':\n",
    "    r_value = 10\n",
    "    g_value = 3\n",
    "    b_value = 3\n",
    "if color == 'lightskyblue':\n",
    "    r_value = 0\n",
    "    g_value = 3\n",
    "    b_value = 10\n",
    "if color == 'plum':\n",
    "    r_value = 5\n",
    "    g_value = 0\n",
    "    b_value = 10\n",
    "if color == 'mediumspringgreen':\n",
    "    r_value = 0\n",
    "    g_value = 10\n",
    "    b_value = 2\n",
    "if color == 'lightgrey':\n",
    "    r_value = 10\n",
    "    g_value = 10\n",
    "    b_value = 10\n",
    "if color == 'orange':\n",
    "    r_value = 10\n",
    "    g_value = 5.5\n",
    "    b_value = 0\n",
    "if color == 'lightpink':\n",
    "    r_value = 10\n",
    "    g_value = 0\n",
    "    b_value = 10\n",
    "if color == 'yellow':\n",
    "    r_value = 10\n",
    "    g_value = 9\n",
    "    b_value = 0\n",
    "\n",
    "color_list = []\n",
    "\n",
    "for i in range(x_dimension*y_dimension):\n",
    "    if i < len(indices):\n",
    "        color_list += [matplotlib.colors.to_hex((indices[i]*r_value, indices[i]*g_value, \n",
    "        indices[i]*b_value))]\n",
    "    else:\n",
    "        color_list += [\"#000000\"]"
   ]
  },
  {
   "cell_type": "markdown",
   "metadata": {},
   "source": [
    "##Single canvas from a single library\n",
    "\n",
    "#Steps to creating a canvas:  \n",
    "1. Open downloaded library from Enrichr  \n",
    "2. Compute the Jaccard index between all sets in the library  \n",
    "3. Applying simulated annealing to determine where the hexagons should end up  \n",
    "4. Color the hexagons based on their index  \n",
    "5. Celebrate."
   ]
  },
  {
   "cell_type": "code",
   "execution_count": 116,
   "metadata": {},
   "outputs": [],
   "source": [
    "import uuid\n",
    "from textwrap import dedent\n",
    "from IPython.core.display import display, HTML\n",
    "from string import Template"
   ]
  },
  {
   "cell_type": "code",
   "execution_count": 136,
   "metadata": {},
   "outputs": [],
   "source": [
    "# NOTE: your d3 code should basically be a function, in the future it would be best to take it out.\n",
    "\n",
    "def init_chart():\n",
    "  chart_id = 'mychart-' + str(uuid.uuid4())\n",
    "  display(HTML('<script src=\"/static/components/requirejs/require.js\"></script>'))\n",
    "  display(HTML(Template(dedent('''\n",
    "  <script>\n",
    "  require.config({\n",
    "    paths: {\n",
    "      'd3': 'https://cdnjs.cloudflare.com/ajax/libs/d3/5.16.0/d3.min',\n",
    "      'd3-hexbin': 'https://d3js.org/d3-hexbin.v0.2.min',\n",
    "    },\n",
    "    shim: {\n",
    "      'd3-hexbin': ['d3']\n",
    "    }\n",
    "  })\n",
    "\n",
    "  // If we configure mychart via url, we can eliminate this define here\n",
    "  define($chart_id, ['d3', 'd3-hexbin'], function(d3, d3_hexbin) {\n",
    "    return function (figure_id, numA, numB, colorList, libraryList, indices) {\n",
    "      var margin = {top: 50, right: 20, bottom: 20, left: 50},\n",
    "        width = 850 - margin.left - margin.right,\n",
    "        height = 350 - margin.top - margin.bottom;\n",
    "\n",
    "      // append the svg object to the body of the page\n",
    "      var svG = d3.select('#' + figure_id)\n",
    "        .attr(\"width\", width + margin.left + margin.right)\n",
    "        .attr(\"height\", height + margin.top + margin.bottom)\n",
    "        .append(\"g\")\n",
    "          .attr(\"transform\",\n",
    "                \"translate(\" + margin.left + \",\" + margin.top + \")\");\n",
    "      \n",
    "      //The number of columns and rows of the heatmap\n",
    "      var MapColumns = numA,\n",
    "          MapRows = numB;\n",
    "\n",
    "      //The maximum radius the hexagons can have to still fit the screen\n",
    "      var hexRadius = d3.min([width/((MapColumns + 0.5) * Math.sqrt(3)), height/((MapRows + 1/3) * 1.5)]);\n",
    "\n",
    "      //Calculate the center position of each hexagon\n",
    "      var points = [];\n",
    "      for (var i = 0; i < MapRows; i++) {\n",
    "          for (var j = 0; j < MapColumns; j++) {\n",
    "              var x = hexRadius * j * Math.sqrt(3)\n",
    "              //Offset each uneven row by half of a \"hex-width\" to the right\n",
    "              if(i%2 === 1) x += (hexRadius * Math.sqrt(3))/2\n",
    "              var y = hexRadius * i * 1.5\n",
    "              points.push([x,y])\n",
    "          }\n",
    "      }\n",
    "\n",
    "      //Set the hexagon radius\n",
    "      var hexbin = d3_hexbin.hexbin().radius(hexRadius);\n",
    "\n",
    "      svG.append(\"g\")\n",
    "        .selectAll(\".hexagon\")\n",
    "        .data(hexbin(points))\n",
    "        .enter().append(\"path\")\n",
    "        .attr(\"class\", \"hexagon\")\n",
    "        .attr(\"d\", function (d) {\n",
    "            return \"M\" + d.x + \",\" + d.y + hexbin.hexagon();\n",
    "        })\n",
    "        .attr(\"stroke\", \"white\")\n",
    "        .attr(\"stroke-width\", \"1px\")\n",
    "        .style(\"fill\", function (d,i) { return colorList[i]; })\n",
    "        .on(\"mouseover\", mover)\n",
    "        .on(\"mouseout\", mout)\n",
    "        .append(\"svg:title\")\n",
    "        .text(function(d,i) { return libraryList[i].concat(\" \").concat(indices[i]); });\n",
    "\n",
    "      function mover(d) {\n",
    "      d3.select(this)\n",
    "        .transition().duration(10)  \n",
    "        .style(\"fill-opacity\", 0.3)\n",
    "      }\n",
    "\n",
    "      //Mouseout function\n",
    "      function mout(d) { \n",
    "      d3.select(this)\n",
    "        .transition().duration(10)\n",
    "        .style(\"fill-opacity\", 1)\n",
    "      }\n",
    "\n",
    "    }\n",
    "  })\n",
    "  </script>\n",
    "  ''')).substitute({ 'chart_id': repr(chart_id) })))\n",
    "  return chart_id\n",
    "\n",
    "def Canvas(numA, numB, colorList, libraryList, indices):\n",
    "  chart_id = init_chart()\n",
    "  display(HTML(Template(dedent('''\n",
    "  <svg id=$figure_id></svg>\n",
    "  <script>\n",
    "  require([$chart_id], function(mychart) {\n",
    "    mychart($figure_id, $numA, $numB, $colorList, $libraryList, $indices)\n",
    "  })\n",
    "  </script>\n",
    "  ''')).substitute({\n",
    "      'chart_id': repr(chart_id),\n",
    "      'figure_id': repr('fig-' + str(uuid.uuid4())),\n",
    "      'numA': repr(numA),\n",
    "      'numB': repr(numB),\n",
    "      'colorList': repr(color_list),\n",
    "      'libraryList': repr(name),\n",
    "      'indices': repr(indices)\n",
    "  })))"
   ]
  },
  {
   "cell_type": "code",
   "execution_count": 140,
   "metadata": {},
   "outputs": [
    {
     "output_type": "display_data",
     "data": {
      "text/plain": "<IPython.core.display.HTML object>",
      "text/html": "<script src=\"/static/components/requirejs/require.js\"></script>"
     },
     "metadata": {}
    },
    {
     "output_type": "display_data",
     "data": {
      "text/plain": "<IPython.core.display.HTML object>",
      "text/html": "\n<script>\nrequire.config({\n  paths: {\n    'd3': 'https://cdnjs.cloudflare.com/ajax/libs/d3/5.16.0/d3.min',\n    'd3-hexbin': 'https://d3js.org/d3-hexbin.v0.2.min',\n  },\n  shim: {\n    'd3-hexbin': ['d3']\n  }\n})\n\n// If we configure mychart via url, we can eliminate this define here\ndefine('mychart-5e2050e9-d318-46a8-ac56-4cb6db518d1e', ['d3', 'd3-hexbin'], function(d3, d3_hexbin) {\n  return function (figure_id, numA, numB, colorList, libraryList, indices) {\n    var margin = {top: 50, right: 20, bottom: 20, left: 50},\n      width = 850 - margin.left - margin.right,\n      height = 350 - margin.top - margin.bottom;\n\n    // append the svg object to the body of the page\n    var svG = d3.select('#' + figure_id)\n      .attr(\"width\", width + margin.left + margin.right)\n      .attr(\"height\", height + margin.top + margin.bottom)\n      .append(\"g\")\n        .attr(\"transform\",\n              \"translate(\" + margin.left + \",\" + margin.top + \")\");\n\n    //The number of columns and rows of the heatmap\n    var MapColumns = numA,\n        MapRows = numB;\n\n    //The maximum radius the hexagons can have to still fit the screen\n    var hexRadius = d3.min([width/((MapColumns + 0.5) * Math.sqrt(3)), height/((MapRows + 1/3) * 1.5)]);\n\n    //Calculate the center position of each hexagon\n    var points = [];\n    for (var i = 0; i < MapRows; i++) {\n        for (var j = 0; j < MapColumns; j++) {\n            var x = hexRadius * j * Math.sqrt(3)\n            //Offset each uneven row by half of a \"hex-width\" to the right\n            if(i%2 === 1) x += (hexRadius * Math.sqrt(3))/2\n            var y = hexRadius * i * 1.5\n            points.push([x,y])\n        }\n    }\n\n    //Set the hexagon radius\n    var hexbin = d3_hexbin.hexbin().radius(hexRadius);\n\n    svG.append(\"g\")\n      .selectAll(\".hexagon\")\n      .data(hexbin(points))\n      .enter().append(\"path\")\n      .attr(\"class\", \"hexagon\")\n      .attr(\"d\", function (d) {\n          return \"M\" + d.x + \",\" + d.y + hexbin.hexagon();\n      })\n      .attr(\"stroke\", \"white\")\n      .attr(\"stroke-width\", \"1px\")\n      .style(\"fill\", function (d,i) { return colorList[i]; })\n      .on(\"mouseover\", mover)\n      .on(\"mouseout\", mout)\n      .append(\"svg:title\")\n      .text(function(d,i) { return libraryList[i].concat(\" \").concat(indices[i]); });\n\n    function mover(d) {\n    d3.select(this)\n      .transition().duration(10)  \n      .style(\"fill-opacity\", 0.3)\n    }\n\n    //Mouseout function\n    function mout(d) { \n    d3.select(this)\n      .transition().duration(10)\n      .style(\"fill-opacity\", 1)\n    }\n\n  }\n})\n</script>\n"
     },
     "metadata": {}
    },
    {
     "output_type": "display_data",
     "data": {
      "text/plain": "<IPython.core.display.HTML object>",
      "text/html": "\n<svg id='fig-a1b48db0-3456-4e76-9624-6248bb624be3'></svg>\n<script>\nrequire(['mychart-5e2050e9-d318-46a8-ac56-4cb6db518d1e'], function(mychart) {\n  mychart('fig-a1b48db0-3456-4e76-9624-6248bb624be3', 15, 15, ['#000000', '#3a3400', '#000000', '#000000', '#191600', '#161300', '#000000', '#000000', '#030300', '#000000', '#000000', '#000000', '#000000', '#000000', '#0b0a00', '#000000', '#0a0900', '#000000', '#000000', '#121100', '#000000', '#100f00', '#000000', '#554c00', '#000000', '#000000', '#000000', '#000000', '#000000', '#1c1900', '#2e2900', '#000000', '#353000', '#000000', '#000000', '#000000', '#000000', '#000000', '#000000', '#000000', '#090800', '#000000', '#000000', '#000000', '#3d3700', '#000000', '#000000', '#000000', '#161400', '#000000', '#433c00', '#000000', '#000000', '#000000', '#000000', '#000000', '#000000', '#000000', '#000000', '#000000', '#000000', '#080700', '#080700', '#050500', '#000000', '#121100', '#221f00', '#000000', '#2f2b00', '#000000', '#000000', '#000000', '#000000', '#000000', '#000000', '#000000', '#100f00', '#000000', '#000000', '#171500', '#070600', '#000000', '#000000', '#0d0c00', '#000000', '#141200', '#000000', '#070600', '#000000', '#000000', '#191600', '#000000', '#3a3400', '#000000', '#2c2800', '#3e3800', '#000000', '#000000', '#3a3400', '#000000', '#0a0900', '#474000', '#000000', '#2b2700', '#2e2a00', '#000000', '#000000', '#000000', '#000000', '#121000', '#0f0e00', '#141200', '#0a0900', '#000000', '#000000', '#000000', '#000000', '#000000', '#000000', '#000000', '#1f1c00', '#100e00', '#060600', '#000000', '#000000', '#000000', '#433c00', '#000000', '#000000', '#2f2b00', '#000000', '#3b3500', '#000000', '#000000', '#000000', '#000000', '#000000', '#000000', '#070600', '#060600', '#161400', '#0b0a00', '#000000', '#000000', '#121000', '#000000', '#000000', '#342f00', '#131100', '#000000', '#000000', '#000000', '#000000', '#000000', '#000000', '#000000', '#000000', '#000000', '#000000', '#000000', '#000000', '#272300', '#252100', '#000000', '#000000', '#000000', '#3a3400', '#2e2a00', '#000000', '#000000', '#272300', '#000000', '#000000', '#000000', '#000000', '#000000', '#000000', '#000000', '#453e00', '#2d2800', '#000000', '#000000', '#000000', '#000000', '#000000', '#000000', '#000000', '#000000', '#000000', '#000000', '#000000', '#000000', '#000000', '#000000', '#000000', '#000000', '#0e0d00', '#090800', '#0c0b00', '#000000', '#110f00', '#000000', '#000000', '#000000', '#131100', '#000000', '#000000', '#000000', '#000000', '#000000', '#000000', '#000000', '#000000', '#000000', '#000000', '#000000', '#000000', '#000000', '#000000', '#000000', '#000000', '#000000', '#000000', '#000000', '#000000'], ['axon (GO:0030424)', 'dendrite (GO:0030425)', 'growth cone (GO:0030426)', 'trans-Golgi network (GO:0005802)', 'centrosome (GO:0005813)', 'microtubule organizing center (GO:0005815)', 'centriole (GO:0005814)', 'spindle (GO:0005819)', 'cytosol (GO:0005829)', 'heterotrimeric G-protein complex (GO:0005834)', 'ribosome (GO:0005840)', 'transcription factor TFTC complex (GO:0033276)', 'voltage-gated calcium channel complex (GO:0005891)', 'nicotinic acetylcholine-gated receptor-channel complex (GO:0005892)', 'integral to plasma membrane (GO:0005887)', 'integral to mitochondrial membrane (GO:0032592)', 'cytoskeleton (GO:0005856)', 'eukaryotic translation initiation factor 3 complex (GO:0005852)', 'intermediate filament (GO:0005882)', 'plasma membrane (GO:0005886)', 'actin filament (GO:0005884)', 'organelle membrane (GO:0031090)', 'platelet alpha granule membrane (GO:0031092)', 'platelet alpha granule lumen (GO:0031093)', 'spindle microtubule (GO:0005876)', 'kinesin complex (GO:0005871)', 'microtubule associated complex (GO:0005875)', 'microtubule (GO:0005874)', 'cornified envelope (GO:0001533)', 'extracellular matrix (GO:0031012)', 'mitochondrial nucleoid (GO:0042645)', 'actomyosin (GO:0042641)', 'nuclear chromosome (GO:0000228)', 'pore complex (GO:0046930)', 'microsome (GO:0005792)', 'ER-Golgi intermediate compartment (GO:0005793)', 'Golgi apparatus (GO:0005794)', 'Golgi-associated vesicle (GO:0005798)', 'endoplasmic reticulum membrane (GO:0005789)', 'endoplasmic reticulum lumen (GO:0005788)', 'endoplasmic reticulum (GO:0005783)', 'integral to peroxisomal membrane (GO:0005779)', 'peroxisome (GO:0005777)', 'vacuole (GO:0005773)', 'vacuolar membrane (GO:0005774)', 'late endosome (GO:0005770)', 'calcium channel complex (GO:0034704)', 'early endosome (GO:0005769)', 'endosome (GO:0005768)', 'mitochondrial ribosome (GO:0005761)', 'lysosomal membrane (GO:0005765)', 'lysosome (GO:0005764)', 'mitochondrial small ribosomal subunit (GO:0005763)', 'mitochondrial intermembrane space (GO:0005758)', 'mitochondrial matrix (GO:0005759)', 'nuclear membrane (GO:0031965)', 'mitochondrial membrane (GO:0031966)', 'mitochondrial inner membrane presequence translocase complex (GO:0005744)', 'mitochondrial respiratory chain complex I (GO:0005747)', 'mitochondrial inner membrane (GO:0005743)', 'mitochondrial outer membrane (GO:0005741)', 'mitochondrion (GO:0005739)', 'cytoplasm (GO:0005737)', 'nucleolus (GO:0005730)', 'small nucleolar ribonucleoprotein complex (GO:0005732)', 'vesicle (GO:0031982)', 'nuclear body (GO:0016604)', 'nuclear speck (GO:0016607)', 'PML body (GO:0016605)', 'vesicular fraction (GO:0042598)', 'filamentous actin (GO:0031941)', 'voltage-gated potassium channel complex (GO:0008076)', 'spectrin (GO:0008091)', 'proteasome complex (GO:0000502)', 'transcription elongation factor complex (GO:0008023)', 'synaptic vesicle (GO:0008021)', 'extracellular space (GO:0005615)', 'intracellular (GO:0005622)', 'basement membrane (GO:0005604)', 'perinuclear region of cytoplasm (GO:0048471)', 'nucleus (GO:0005634)', 'nuclear envelope (GO:0005635)', 'nuclear pore (GO:0005643)', 'membrane fraction (GO:0005624)', 'soluble fraction (GO:0005625)', 'insoluble fraction (GO:0005626)', 'DNA-directed RNA polymerase II, core complex (GO:0005665)', 'nucleoplasm (GO:0005654)', 'anaphase-promoting complex (GO:0005680)', 'spliceosome (GO:0005681)', 'transcription factor complex (GO:0005667)', 'stress fiber (GO:0001725)', 'transcription factor TFIID complex (GO:0005669)', 'ruffle (GO:0001726)', 'chromosome (GO:0005694)', 'integral to Golgi membrane (GO:0030173)', 'integral to endoplasmic reticulum membrane (GO:0030176)', 'cell projection membrane (GO:0031253)', 'intrinsic to Golgi membrane (GO:0031228)', 'intrinsic to endoplasmic reticulum membrane (GO:0031227)', 'intrinsic to membrane (GO:0031224)', 'AP-type membrane coat adaptor complex (GO:0030119)', 'transport vesicle (GO:0030133)', 'coated vesicle (GO:0030135)', 'clathrin-coated vesicle (GO:0030136)', 'SNARE complex (GO:0031201)', 'endocytic vesicle (GO:0030139)', 'secretory granule (GO:0030141)', 'transcriptional repressor complex (GO:0017053)', 'cell surface (GO:0009986)', 'membrane (GO:0016020)', 'cytoplasmic membrane-bounded vesicle (GO:0016023)', 'integral to membrane (GO:0016021)', 'external side of plasma membrane (GO:0009897)', 'actin cytoskeleton (GO:0015629)', 'microtubule cytoskeleton (GO:0015630)', 'cell-substrate junction (GO:0030055)', 'cell junction (GO:0030054)', 'collagen (GO:0005581)', 'fibrillar collagen (GO:0005583)', 'proteinaceous extracellular matrix (GO:0005578)', 'extracellular region (GO:0005576)', 'cellular component (GO:0005575)', 'STAGA complex (GO:0030914)', 'lamellipodium (GO:0030027)', 'Golgi transport complex (GO:0017119)', 'condensed nuclear chromosome (GO:0000794)', 'cortical cytoskeleton (GO:0030863)', 'integrin complex (GO:0008305)', 'endosome membrane (GO:0010008)', 'heterochromatin (GO:0000792)', 'condensed chromosome (GO:0000793)', 'nuclear chromatin (GO:0000790)', 'nucleosome (GO:0000786)', 'chromatin (GO:0000785)', 'nuclear telomere cap complex (GO:0000783)', 'chromosome, telomeric region (GO:0000781)', 'kinetochore (GO:0000776)', 'intracellular membrane-bounded organelle (GO:0043231)', 'intracellular organelle (GO:0043229)', 'receptor complex (GO:0043235)', 'protein complex (GO:0043234)', 'basolateral plasma membrane (GO:0016323)', 'apical plasma membrane (GO:0016324)', 'cell projection (GO:0042995)', 'very-low-density lipoprotein particle (GO:0034361)', 'high-density lipoprotein particle (GO:0034364)', 'nuclear matrix (GO:0016363)', 'cytoplasmic vesicle (GO:0031410)', 'protein serine/threonine phosphatase complex (GO:0008287)', 'protein phosphatase type 2A complex (GO:0000159)', 'T cell receptor complex (GO:0042101)', 'NuA4 histone acetyltransferase complex (GO:0035267)', 'integrator complex (GO:0032039)', 'eukaryotic translation initiation factor 4F complex (GO:0016281)', 'histone acetyltransferase complex (GO:0000123)', 'mediator complex (GO:0000119)', 'histone deacetylase complex (GO:0000118)', 'ubiquitin ligase complex (GO:0000151)', 'nuclear ubiquitin ligase complex (GO:0000152)', 'ATP-binding cassette (ABC) transporter complex (GO:0043190)', 'Golgi membrane (GO:0000139)', 'membrane raft (GO:0045121)', 'outer membrane (GO:0019867)', 'organelle inner membrane (GO:0019866)', 'anchored to plasma membrane (GO:0046658)', 'extrinsic to plasma membrane (GO:0019897)', 'extrinsic to membrane (GO:0019898)', 'cytoplasmic vesicle membrane (GO:0030659)', 'secretory granule membrane (GO:0030667)', 'neuron projection (GO:0043005)', 'SWI/SNF complex (GO:0016514)', 'sarcoplasmic reticulum membrane (GO:0033017)', 'cytosolic small ribosomal subunit (GO:0022627)', 'cytosolic large ribosomal subunit (GO:0022625)', 'small ribosomal subunit (GO:0015935)', 'large ribosomal subunit (GO:0015934)', 'vesicle membrane (GO:0012506)', 'cell soma (GO:0043025)', 'chromatin remodeling complex (GO:0016585)', 'synapse (GO:0045202)', 'small nuclear ribonucleoprotein complex (GO:0030532)', 'heterogeneous nuclear ribonucleoprotein complex (GO:0030530)', 'ribonucleoprotein complex (GO:0030529)', 'spindle pole (GO:0000922)', 'cell-cell adherens junction (GO:0005913)', 'adherens junction (GO:0005912)', 'cell-cell junction (GO:0005911)', 'gamma-tubulin complex (GO:0000930)', 'microvillus (GO:0005902)', 'caveola (GO:0005901)', 'cell cortex (GO:0005938)', 'midbody (GO:0030496)', 'cilium (GO:0005929)', 'tight junction (GO:0005923)', 'focal adhesion (GO:0005925)', 'cytoskeletal part (GO:0044430)', 'mitochondrial part (GO:0044429)', 'membrane part (GO:0044425)', 'extracellular matrix part (GO:0044420)', 'extracellular region part (GO:0044421)', 'histone methyltransferase complex (GO:0035097)', 'myosin complex (GO:0016459)', 'proton-transporting two-sector ATPase complex (GO:0016469)', 'cytosolic part (GO:0044445)'], [0.0, 0.02273, 0.0, 0.0, 0.00962, 0.00847, 0.0, 0.0, 0.0013, 0.0, 0.0, 0.0, 0.0, 0.0, 0.0042, 0.0, 0.00408, 0.0, 0.0, 0.00719, 0.0, 0.00635, 0.0, 0.03333, 0.0, 0.0, 0.0, 0.0, 0.0, 0.01099, 0.01786, 0.0, 0.02083, 0.0, 0.0, 0.0, 0.0, 0.0, 0.0, 0.0, 0.00362, 0.0, 0.0, 0.0, 0.02381, 0.0, 0.0, 0.0, 0.00855, 0.0, 0.02632, 0.0, 0.0, 0.0, 0.0, 0.0, 0.0, 0.0, 0.0, 0.0, 0.0, 0.00326, 0.00301, 0.00206, 0.0, 0.00719, 0.01351, 0.0, 0.01852, 0.0, 0.0, 0.0, 0.0, 0.0, 0.0, 0.0, 0.00637, 0.0, 0.0, 0.00917, 0.00274, 0.0, 0.0, 0.00528, 0.0, 0.00769, 0.0, 0.00266, 0.0, 0.0, 0.0098, 0.0, 0.02273, 0.0, 0.01724, 0.02439, 0.0, 0.0, 0.02273, 0.0, 0.00403, 0.02778, 0.0, 0.01695, 0.01818, 0.0, 0.0, 0.0, 0.0, 0.00709, 0.00596, 0.008, 0.00409, 0.0, 0.0, 0.0, 0.0, 0.0, 0.0, 0.0, 0.0122, 0.00616, 0.00245, 0.0, 0.0, 0.0, 0.02632, 0.0, 0.0, 0.01852, 0.0, 0.02326, 0.0, 0.0, 0.0, 0.0, 0.0, 0.0, 0.00258, 0.00248, 0.00862, 0.00423, 0.0, 0.0, 0.00714, 0.0, 0.0, 0.02041, 0.00741, 0.0, 0.0, 0.0, 0.0, 0.0, 0.0, 0.0, 0.0, 0.0, 0.0, 0.0, 0.0, 0.01515, 0.01449, 0.0, 0.0, 0.0, 0.02273, 0.01818, 0.0, 0.0, 0.01515, 0.0, 0.0, 0.0, 0.0, 0.0, 0.0, 0.0, 0.02703, 0.01754, 0.0, 0.0, 0.0, 0.0, 0.0, 0.0, 0.0, 0.0, 0.0, 0.0, 0.0, 0.0, 0.0, 0.0, 0.0, 0.0, 0.00546, 0.00336, 0.0048, 0.0, 0.00667, 0.0, 0.0, 0.0, 0.00758])\n})\n</script>\n"
     },
     "metadata": {}
    }
   ],
   "source": [
    "Canvas(x_dimension, y_dimension, color_list, name, indices)"
   ]
  },
  {
   "cell_type": "code",
   "execution_count": null,
   "metadata": {},
   "outputs": [],
   "source": []
  }
 ],
 "metadata": {
  "kernelspec": {
   "display_name": "Python 3.7.6 64-bit ('base': conda)",
   "language": "python",
   "name": "python37664bitbasecondad81f4d096e8b4b9885e3d702e0bb3be1"
  },
  "language_info": {
   "codemirror_mode": {
    "name": "ipython",
    "version": 3
   },
   "file_extension": ".py",
   "mimetype": "text/x-python",
   "name": "python",
   "nbconvert_exporter": "python",
   "pygments_lexer": "ipython3",
   "version": "3.7.6-final"
  }
 },
 "nbformat": 4,
 "nbformat_minor": 2
}