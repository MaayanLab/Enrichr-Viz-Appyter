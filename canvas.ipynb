{
 "cells": [
  {
   "cell_type": "markdown",
   "metadata": {},
   "source": [
    "###Canvas Creation from Enrichr"
   ]
  },
  {
   "cell_type": "code",
   "execution_count": 1,
   "metadata": {},
   "outputs": [],
   "source": [
    "import pandas as pd \n",
    "import numpy as np\n",
    "import json\n",
    "import requests\n",
    "import matplotlib.pyplot as plt\n",
    "import seaborn as sns\n",
    "import time\n",
    "import matplotlib\n",
    "from matplotlib.ticker import MaxNLocator\n",
    "from IPython.display import display,FileLink, Markdown\n",
    "from matplotlib import colors"
   ]
  },
  {
   "cell_type": "code",
   "execution_count": 2,
   "metadata": {},
   "outputs": [
    {
     "output_type": "stream",
     "name": "stdout",
     "text": "['#000000', '#000000', '#000000', '#000000', '#000000', '#000000', '#924949', '#000000', '#000000', '#000000', '#000000', '#000000', '#000000', '#361b1b', '#000000', '#000000', '#000000', '#000000', '#000000', '#000000', '#000000', '#000000', '#000000', '#000000', '#502828', '#402020', '#000000', '#000000', '#000000', '#000000', '#000000', '#000000', '#452222', '#000000', '#000000', '#000000', '#000000', '#000000', '#000000', '#000000', '#000000', '#000000', '#000000', '#000000', '#522929', '#000000', '#180c0c', '#663333', '#000000', '#000000', '#000000', '#000000', '#000000', '#3d1e1e', '#000000', '#000000', '#000000', '#000000', '#000000', '#000000', '#391c1c', '#000000', '#000000', '#4b2626', '#000000', '#000000', '#643232', '#000000', '#000000', '#000000', '#000000', '#000000', '#000000', '#623131', '#000000', '#000000', '#000000', '#522929', '#000000', '#000000', '#000000', '#000000', '#000000', '#000000', '#6a3535', '#000000', '#000000', '#000000', '#412121', '#000000', '#000000', '#4b2626', '#000000', '#8e4747', '#000000', '#522929', '#000000', '#000000', '#000000', '#6d3636', '#000000', '#000000', '#000000', '#000000', '#000000', '#000000', '#000000', '#000000', '#000000', '#000000', '#000000', '#000000', '#000000', '#000000', '#000000', '#000000', '#361b1b', '#3d1e1e', '#000000', '#000000', '#000000', '#4b2626', '#000000', '#623131', '#000000', '#000000', '#000000', '#000000', '#000000', '#5b2e2e', '#000000', '#000000', '#000000', '#6f3737', '#000000', '#000000', '#000000', '#623131', '#4d2727', '#000000', '#6f3737', '#000000', '#492424', '#000000', '#221111', '#000000', '#000000', '#000000', '#000000', '#2e1717', '#432222', '#000000', '#000000', '#000000', '#000000', '#000000', '#221111', '#663333', '#472323', '#000000', '#000000', '#000000', '#000000', '#000000', '#000000', '#000000', '#6a3535', '#000000', '#000000', '#000000', '#472323', '#000000', '#4b2626', '#000000', '#000000', '#2c1616', '#311919', '#000000', '#402020', '#000000', '#000000', '#000000', '#000000', '#000000', '#000000', '#000000', '#402020', '#000000', '#3e1f1f', '#000000', '#000000', '#8a4545', '#000000', '#5b2e2e', '#000000', '#000000', '#000000', '#000000', '#5b2e2e', '#000000', '#000000', '#000000', '#000000', '#000000', '#000000', '#000000', '#582c2c', '#000000', '#000000', '#432222', '#000000', '#000000', '#000000', '#000000', '#000000', '#000000', '#000000', '#000000', '#000000', '#351b1b', '#000000', '#000000', '#000000', '#3b1e1e', '#000000', '#000000', '#3b1e1e', '#000000', '#000000', '#000000', '#000000', '#4b2626', '#000000', '#4b2626', '#000000', '#000000', '#000000', '#000000', '#000000', '#000000', '#000000', '#000000', '#000000', '#000000', '#000000', '#351b1b', '#000000', '#000000', '#000000', '#000000', '#000000', '#000000', '#000000', '#000000', '#000000', '#000000']\n"
    }
   ],
   "source": [
    "bar_color = 'mediumforestgreen'\n",
    "bar_color_not_sig = 'lightgrey'\n",
    "edgecolor = None\n",
    "chart_type = \"Canvas\"\n",
    "all_libraries = ['ARCHS4_Cell-lines']\n",
    "\n",
    "# list of genes that was input\n",
    "genes = ['TP53', 'TNF', 'EGFR', 'GKN1', 'HADHA', 'APOE', 'ESR1', 'VEGFA', 'TGFB1', 'PREPL', 'TIA1', 'TPO', 'TTN', 'SATB2', 'CHPF', 'MALL', 'MIPIP', 'NUPL1']\n",
    "\n",
    "# need to download relevant Enrichr library. Then, the number of terms in that library is the number of hexagons we want. Each term has a certain number of genes associated with it, we compute the Jaccard index for that set and the input gene set, then color the respective hexagon. \n",
    "\n",
    "# NOTE: currently only covers case where these is one library\n",
    "raw_library_data = []\n",
    "library_data = []\n",
    "\n",
    "for library_name in all_libraries:\n",
    "    with open('library.txt', 'r') as f:\n",
    "        for line in f.readlines():\n",
    "            raw_library_data.append(line.split(\"\\t\\t\"))\n",
    "\n",
    "name = []\n",
    "gene_list = []\n",
    "\n",
    "for i in range(len(raw_library_data)):\n",
    "    name += [raw_library_data[i][0]]\n",
    "    raw_genes = raw_library_data[i][1].split(\"\\t\")\n",
    "    gene_list += [raw_genes[:-1]]\n",
    "\n",
    "library_data = [list(a) for a in zip(name, gene_list)]\n",
    "\n",
    "# now we have library_data formatted in the way we want: a 2D list where the first element is the name and the second element is a list of genes associated with that name\n",
    "\n",
    "jaccard_indices = []\n",
    "indices = []\n",
    "\n",
    "for gene_set in library_data:\n",
    "    intersection = [value for value in gene_set[1] if value in genes]\n",
    "    index = len(intersection)/(len(gene_set[1]) + len(genes))\n",
    "    jaccard_indices += [[gene_set[0], index]]\n",
    "    indices += [index]\n",
    "#print(jaccard_indices)\n",
    "#print(jaccard_indices[0:10])\n",
    "\n",
    "#add step here that takes in color input\n",
    "color_list = []\n",
    "#print(max(indices))\n",
    "\n",
    "# indices[i]*10, indices[i]*5, indices[i]*5\n",
    "\n",
    "for i in range(256):\n",
    "    if i < len(indices):\n",
    "        color_list += [matplotlib.colors.to_hex((indices[i]*10, indices[i]*5, indices[i]*5))]\n",
    "    else:\n",
    "        color_list += [\"#000000\"]\n",
    "\n",
    "print(color_list)\n",
    "\n",
    "f = open(\"index_colors.txt\", \"w\")\n",
    "for hex_color in color_list:\n",
    "    f.write(hex_color + \"\\n\")\n",
    "f.close()"
   ]
  },
  {
   "cell_type": "markdown",
   "metadata": {},
   "source": [
    "##Single canvas from a single library\n",
    "\n",
    "#Steps to creating a canvas:  \n",
    "1. Open downloaded library from Enrichr  \n",
    "2. Compute the Jaccard index between all sets in the library  \n",
    "3. Applying simulated annealing to determine where the hexagons should end up  \n",
    "4. Color the hexagons based on their index  \n",
    "5. Celebrate."
   ]
  },
  {
   "cell_type": "code",
   "execution_count": 3,
   "metadata": {},
   "outputs": [],
   "source": [
    "import uuid\n",
    "from textwrap import dedent\n",
    "from IPython.core.display import display, HTML\n",
    "from string import Template\n",
    "\n"
   ]
  },
  {
   "cell_type": "code",
   "execution_count": 12,
   "metadata": {},
   "outputs": [],
   "source": [
    "# NOTE: your d3 code should basically be a function, in the future it would be best to take it out.\n",
    "\n",
    "def init_chart():\n",
    "  chart_id = 'mychart-' + str(uuid.uuid4())\n",
    "  display(HTML('<script src=\"/static/components/requirejs/require.js\"></script>'))\n",
    "  display(HTML(Template(dedent('''\n",
    "  <script>\n",
    "  require.config({\n",
    "    paths: {\n",
    "      'd3': 'https://cdnjs.cloudflare.com/ajax/libs/d3/5.16.0/d3.min',\n",
    "      'd3-hexbin': 'https://d3js.org/d3-hexbin.v0.2.min',\n",
    "    },\n",
    "    shim: {\n",
    "      'd3-hexbin': ['d3']\n",
    "    }\n",
    "  })\n",
    "\n",
    "  // If we configure mychart via url, we can eliminate this define here\n",
    "  define($chart_id, ['d3', 'd3-hexbin'], function(d3, d3_hexbin) {\n",
    "    return function (figure_id, numA, numB) {\n",
    "      var margin = {top: 50, right: 20, bottom: 20, left: 50},\n",
    "        width = 850 - margin.left - margin.right,\n",
    "        height = 350 - margin.top - margin.bottom;\n",
    "\n",
    "      // append the svg object to the body of the page\n",
    "      var svG = d3.select('#' + figure_id)\n",
    "        .attr(\"width\", width + margin.left + margin.right)\n",
    "        .attr(\"height\", height + margin.top + margin.bottom)\n",
    "        .append(\"g\")\n",
    "          .attr(\"transform\",\n",
    "                \"translate(\" + margin.left + \",\" + margin.top + \")\");\n",
    "      \n",
    "      //The number of columns and rows of the heatmap\n",
    "      var MapColumns = numA,\n",
    "          MapRows = numB;\n",
    "\n",
    "      //The maximum radius the hexagons can have to still fit the screen\n",
    "      var hexRadius = d3.min([width/((MapColumns + 0.5) * Math.sqrt(3)), height/((MapRows + 1/3) * 1.5)]);\n",
    "\n",
    "      //Calculate the center position of each hexagon\n",
    "      var points = [];\n",
    "      for (var i = 0; i < MapRows; i++) {\n",
    "          for (var j = 0; j < MapColumns; j++) {\n",
    "              var x = hexRadius * j * Math.sqrt(3)\n",
    "              //Offset each uneven row by half of a \"hex-width\" to the right\n",
    "              if(i%2 === 1) x += (hexRadius * Math.sqrt(3))/2\n",
    "              var y = hexRadius * i * 1.5\n",
    "              points.push([x,y])\n",
    "          }\n",
    "      }\n",
    "\n",
    "      //Set the hexagon radius\n",
    "      var hexbin = d3_hexbin.hexbin().radius(hexRadius);\n",
    "\n",
    "      svG.append(\"g\")\n",
    "        .selectAll(\".hexagon\")\n",
    "        .data(hexbin(points))\n",
    "        .enter().append(\"path\")\n",
    "        .attr(\"class\", \"hexagon\")\n",
    "        .attr(\"d\", function (d) {\n",
    "            return \"M\" + d.x + \",\" + d.y + hexbin.hexagon();\n",
    "        })\n",
    "        .attr(\"stroke\", \"white\")\n",
    "        .attr(\"stroke-width\", \"1px\")\n",
    "        .style(\"fill\", \"purple\")\n",
    "    }\n",
    "  })\n",
    "  </script>\n",
    "  ''')).substitute({ 'chart_id': repr(chart_id) })))\n",
    "  return chart_id\n",
    "\n",
    "def Canvas(numA, numB):\n",
    "  chart_id = init_chart()\n",
    "  display(HTML(Template(dedent('''\n",
    "  <svg id=$figure_id></svg>\n",
    "  <script>\n",
    "  require([$chart_id], function(mychart) {\n",
    "    mychart($figure_id, $numA, $numB)\n",
    "  })\n",
    "  </script>\n",
    "  ''')).substitute({\n",
    "      'chart_id': repr(chart_id),\n",
    "      'figure_id': repr('fig-' + str(uuid.uuid4())),\n",
    "      'numA': repr(numA),\n",
    "      'numB': repr(numB)\n",
    "  })))"
   ]
  },
  {
   "cell_type": "code",
   "execution_count": 13,
   "metadata": {},
   "outputs": [
    {
     "output_type": "display_data",
     "data": {
      "text/plain": "<IPython.core.display.HTML object>",
      "text/html": "<script src=\"/static/components/requirejs/require.js\"></script>"
     },
     "metadata": {}
    },
    {
     "output_type": "display_data",
     "data": {
      "text/plain": "<IPython.core.display.HTML object>",
      "text/html": "\n<script>\nrequire.config({\n  paths: {\n    'd3': 'https://cdnjs.cloudflare.com/ajax/libs/d3/5.16.0/d3.min',\n    'd3-hexbin': 'https://d3js.org/d3-hexbin.v0.2.min',\n  },\n  shim: {\n    'd3-hexbin': ['d3']\n  }\n})\n\n// If we configure mychart via url, we can eliminate this define here\ndefine('mychart-55eff9f8-e0c5-4d08-9f12-97c16e06af2b', ['d3', 'd3-hexbin'], function(d3, d3_hexbin) {\n  return function (figure_id, numA, numB) {\n    var margin = {top: 50, right: 20, bottom: 20, left: 50},\n      width = 850 - margin.left - margin.right,\n      height = 350 - margin.top - margin.bottom;\n\n    // append the svg object to the body of the page\n    var svG = d3.select('#' + figure_id)\n      .attr(\"width\", width + margin.left + margin.right)\n      .attr(\"height\", height + margin.top + margin.bottom)\n      .append(\"g\")\n        .attr(\"transform\",\n              \"translate(\" + margin.left + \",\" + margin.top + \")\");\n\n    //The number of columns and rows of the heatmap\n    var MapColumns = numA,\n        MapRows = numB;\n\n    //The maximum radius the hexagons can have to still fit the screen\n    var hexRadius = d3.min([width/((MapColumns + 0.5) * Math.sqrt(3)), height/((MapRows + 1/3) * 1.5)]);\n\n    //Calculate the center position of each hexagon\n    var points = [];\n    for (var i = 0; i < MapRows; i++) {\n        for (var j = 0; j < MapColumns; j++) {\n            var x = hexRadius * j * Math.sqrt(3)\n            //Offset each uneven row by half of a \"hex-width\" to the right\n            if(i%2 === 1) x += (hexRadius * Math.sqrt(3))/2\n            var y = hexRadius * i * 1.5\n            points.push([x,y])\n        }\n    }\n\n    //Set the hexagon radius\n    var hexbin = d3_hexbin.hexbin().radius(hexRadius);\n\n    svG.append(\"g\")\n      .selectAll(\".hexagon\")\n      .data(hexbin(points))\n      .enter().append(\"path\")\n      .attr(\"class\", \"hexagon\")\n      .attr(\"d\", function (d) {\n          return \"M\" + d.x + \",\" + d.y + hexbin.hexagon();\n      })\n      .attr(\"stroke\", \"white\")\n      .attr(\"stroke-width\", \"1px\")\n      .style(\"fill\", \"purple\")\n  }\n})\n</script>\n"
     },
     "metadata": {}
    },
    {
     "output_type": "display_data",
     "data": {
      "text/plain": "<IPython.core.display.HTML object>",
      "text/html": "\n<svg id='fig-45e272d7-3b6d-4b9d-8fb6-e31068b34630'></svg>\n<script>\nrequire(['mychart-55eff9f8-e0c5-4d08-9f12-97c16e06af2b'], function(mychart) {\n  mychart('fig-45e272d7-3b6d-4b9d-8fb6-e31068b34630', 16, 16)\n})\n</script>\n"
     },
     "metadata": {}
    }
   ],
   "source": [
    "Canvas(16,16)"
   ]
  },
  {
   "cell_type": "code",
   "execution_count": null,
   "metadata": {},
   "outputs": [],
   "source": []
  }
 ],
 "metadata": {
  "language_info": {
   "codemirror_mode": {
    "name": "ipython",
    "version": 3
   },
   "file_extension": ".py",
   "mimetype": "text/x-python",
   "name": "python",
   "nbconvert_exporter": "python",
   "pygments_lexer": "ipython3",
   "version": "3.7.6-final"
  },
  "orig_nbformat": 2,
  "kernelspec": {
   "name": "python37664bitbasecondad81f4d096e8b4b9885e3d702e0bb3be1",
   "display_name": "Python 3.7.6 64-bit ('base': conda)"
  }
 },
 "nbformat": 4,
 "nbformat_minor": 2
}