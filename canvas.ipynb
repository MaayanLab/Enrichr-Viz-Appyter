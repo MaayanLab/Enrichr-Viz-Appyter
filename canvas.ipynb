{
 "cells": [
  {
   "cell_type": "markdown",
   "metadata": {},
   "source": [
    "###Canvas Creation from Enrichr"
   ]
  },
  {
   "cell_type": "code",
   "execution_count": 1,
   "metadata": {},
   "outputs": [],
   "source": [
    "import pandas as pd \n",
    "import numpy as np\n",
    "import json\n",
    "import requests\n",
    "import matplotlib.pyplot as plt\n",
    "import seaborn as sns\n",
    "import time\n",
    "import math\n",
    "import matplotlib\n",
    "import uuid\n",
    "from textwrap import dedent\n",
    "from IPython.core.display import display, HTML\n",
    "from string import Template\n",
    "from matplotlib.ticker import MaxNLocator\n",
    "from IPython.display import display,FileLink, Markdown\n",
    "from matplotlib import colors\n",
    "from random import seed\n",
    "from random import randint"
   ]
  },
  {
   "cell_type": "markdown",
   "metadata": {},
   "source": [
    "Below this is arbitrary definitions for these variables, their actual values will be selected in the Appyter (so DON'T ADD BELOW CELL TO APPYTER)"
   ]
  },
  {
   "cell_type": "code",
   "execution_count": 2,
   "metadata": {},
   "outputs": [],
   "source": [
    "bar_color = 'mediumforestgreen'\n",
    "bar_color_not_sig = 'lightgrey'\n",
    "edgecolor = None\n",
    "chart_type = \"Canvas\"\n",
    "all_libraries = ['BioCarta_2013']\n",
    "color = 'lightpink'\n",
    "\n",
    "# list of genes that was input\n",
    "genes = ['TP53', 'TNF', 'EGFR', 'GKN1', 'HADHA', 'APOE', 'ESR1', 'VEGFA', 'TGFB1', 'PREPL', 'TIA1', 'TPO', 'TTN', 'SATB2', 'CHPF', 'MALL', 'MIPIP', 'NUPL1', 'IL6', 'PDIA3', 'CTNNB1', 'SLC39A1', 'DTNA','SLC1A1', 'GALNT2', 'HIST2H2AC', 'CD63']"
   ]
  },
  {
   "cell_type": "code",
   "execution_count": 3,
   "metadata": {
    "tags": [
     "outputPrepend"
    ]
   },
   "outputs": [],
   "source": [
    "# NOTE: currently only covers case where these is one library\n",
    "raw_library_data = []\n",
    "library_data = []\n",
    "\n",
    "for library_name in all_libraries:\n",
    "    with open('Enrichr-Libraries/'+library_name, 'r') as f:\n",
    "        for line in f.readlines():\n",
    "            raw_library_data.append(line.split(\"\\t\\t\"))\n",
    "name = []\n",
    "gene_list = []\n",
    "\n",
    "for i in range(len(raw_library_data)):\n",
    "    name += [raw_library_data[i][0]]\n",
    "    raw_genes = raw_library_data[i][1].split(\"\\t\")\n",
    "    gene_list += [raw_genes[:-1]]\n",
    "\n",
    "library_data = [list(a) for a in zip(name, gene_list)]\n",
    "\n",
    "# library_data: a 2D list where the first element is the name and the second element is a list of genes associated with that name\n",
    "\n",
    "jaccard_indices = []\n",
    "indices = []\n",
    "\n",
    "for gene_set in library_data:\n",
    "    intersection = [value for value in gene_set[1] if value in genes]\n",
    "    index = len(intersection)/(len(gene_set[1]) + len(genes))\n",
    "    jaccard_indices += [[gene_set[0], index]]\n",
    "    indices += [round(index, 5)]"
   ]
  },
  {
   "cell_type": "code",
   "execution_count": 4,
   "metadata": {},
   "outputs": [],
   "source": [
    "# determine the dimensions of the canvas\n",
    "# currently only makes squares which is not the most efficient\n",
    "\n",
    "x_dimension = math.ceil(math.sqrt(len(indices)))\n",
    "y_dimension = math.ceil(math.sqrt(len(indices)))"
   ]
  },
  {
   "cell_type": "code",
   "execution_count": 5,
   "metadata": {},
   "outputs": [],
   "source": [
    "# color options: red, blue, green. grey, orange, purple, yellow, pink\n",
    "def get_color(anneal_list):\n",
    "    r_value = 0\n",
    "    g_value = 0\n",
    "    b_value = 0\n",
    "\n",
    "    if color == 'tomato':\n",
    "        r_value = 10\n",
    "        g_value = 3\n",
    "        b_value = 3\n",
    "    if color == 'lightskyblue':\n",
    "        r_value = 0\n",
    "        g_value = 3\n",
    "        b_value = 10\n",
    "    if color == 'plum':\n",
    "        r_value = 5\n",
    "        g_value = 0\n",
    "        b_value = 10\n",
    "    if color == 'mediumspringgreen':\n",
    "        r_value = 0\n",
    "        g_value = 10\n",
    "        b_value = 2\n",
    "    if color == 'lightgrey':\n",
    "        r_value = 10\n",
    "        g_value = 10\n",
    "        b_value = 10\n",
    "    if color == 'orange':\n",
    "        r_value = 10\n",
    "        g_value = 5.5\n",
    "        b_value = 0\n",
    "    if color == 'lightpink':\n",
    "        r_value = 10\n",
    "        g_value = 0\n",
    "        b_value = 10\n",
    "    if color == 'yellow':\n",
    "        r_value = 10\n",
    "        g_value = 9\n",
    "        b_value = 0\n",
    "\n",
    "    color_list = []\n",
    "\n",
    "    unzipped_anneal_list = unzip_list(anneal_list)\n",
    "\n",
    "    for i in range(x_dimension*y_dimension):\n",
    "        if i < len(unzipped_anneal_list[2]):\n",
    "            color_list += [matplotlib.colors.to_hex((unzipped_anneal_list[2][i]*r_value,\n",
    "            unzipped_anneal_list[2][i]*g_value, unzipped_anneal_list[2][i]*b_value))]\n",
    "        else:\n",
    "            color_list += [\"#000000\"]\n",
    "    return color_list"
   ]
  },
  {
   "cell_type": "markdown",
   "metadata": {},
   "source": [
    "##Annealing  \n",
    "\n",
    "Edge cases to consider:  \n",
    "1. Corner (0, 15, 255, 240)  \n",
    "2. Edge (1-14, 16, 31, 32, etc., 241-254)   \n",
    "\n"
   ]
  },
  {
   "cell_type": "code",
   "execution_count": 6,
   "metadata": {},
   "outputs": [],
   "source": [
    "# Zip name, gene_list, indices, and blank list for neighbor score then add dummy entries to the zipped list\n",
    "num_hex = x_dimension*y_dimension\n",
    "neighbor_score = [0.0] * len(name)\n",
    "anneal_list = list(zip(name, gene_list, indices, neighbor_score))\n",
    "\n",
    "unzipped_anneal_list = [name, gene_list, indices, neighbor_score]\n",
    "\n",
    "# Add \"dummy\" hexagons\n",
    "for i in range(len(name), num_hex):\n",
    "    anneal_list += [('', [], 0.0, 0.0)]"
   ]
  },
  {
   "cell_type": "code",
   "execution_count": 7,
   "metadata": {
    "tags": [
     "outputPrepend"
    ]
   },
   "outputs": [],
   "source": [
    "def find_neighbors(ind):\n",
    "    '''returns a list of the indices of the neighbors of the index given'''\n",
    "    neighbors = []\n",
    "    if 0 <= ind <= x_dimension-1:\n",
    "        # top row (inc. corners)\n",
    "        if ind == 0:\n",
    "            # top left corner\n",
    "            neighbors = [num_hex-1, num_hex-x_dimension, x_dimension-1, 2*x_dimension-1, ind+1,                  ind+x_dimension]\n",
    "        elif ind == (x_dimension-1):\n",
    "            # top right corner\n",
    "            neighbors = [ind-1, ind+x_dimension, 0, ind+x_dimension-1, num_hex-2, num_hex-1]\n",
    "        else:\n",
    "            # non-corner top row\n",
    "            neighbors = [ind-1, ind+1, ind+x_dimension, ind+num_hex-x_dimension-1, \n",
    "            ind+num_hex-x_dimension, ind+x_dimension-1]\n",
    "\n",
    "    elif (num_hex - x_dimension) <= ind <= num_hex -1:\n",
    "        if ind == (num_hex-x_dimension):\n",
    "            # bottom left corner\n",
    "            neighbors = [ind+1, ind-x_dimension, ind-x_dimension+1, 0, 1, num_hex-1]\n",
    "        elif ind == (num_hex-1):\n",
    "            # bottom right corner\n",
    "            neighbors = [ind-1, ind-x_dimension, ind-x_dimension+1, 0, x_dimension-1,\n",
    "            num_hex-2*x_dimension]\n",
    "        else:\n",
    "            # non-corner bottom row\n",
    "            neighbors = [ind-1, ind+1, ind-x_dimension, ind-x_dimension+1, ind-num_hex+x_dimension,\n",
    "            ind-num_hex+x_dimension+1]\n",
    "    elif ind % y_dimension == 0 and (ind/y_dimension)%2 == 1:\n",
    "        # \"inner\" left edge (not top or bottom row)\n",
    "        neighbors = [ind+x_dimension-1, ind+1, ind-x_dimension, ind-x_dimension+1, ind+x_dimension, \n",
    "        ind+x_dimension+1]\n",
    "    elif ind % y_dimension == 0 and (ind/y_dimension)%2 == 0:\n",
    "        # \"outer\" left edge (not top or bottom row)\n",
    "        neighbors = [ind-1, ind+1, ind+x_dimension, ind+2*x_dimension-1, ind-x_dimension, \n",
    "        ind+x_dimension-1]\n",
    "    elif (ind+1) % y_dimension == 0 and ((ind+1)/y_dimension)%2 == 0:\n",
    "        # \"outer\" right edge (not top or bottom row)\n",
    "        neighbors = [ind-1, ind+1, ind-x_dimension, ind-x_dimension+1, ind+x_dimension, \n",
    "        ind-2*x_dimension+1]\n",
    "    elif (ind+1) % y_dimension == 0 and ((ind+1)/y_dimension)%2 == 1:\n",
    "        # \"inner\" right edge (not top or bottom row)\n",
    "        neighbors = [ind-1, ind-x_dimension-1, ind-x_dimension, ind-x_dimension+1, ind+x_dimension, \n",
    "        ind+x_dimension-1]\n",
    "    else:\n",
    "        # middle\n",
    "        neighbors = [ind-1, ind+1, ind-x_dimension, ind-x_dimension+1, ind+x_dimension, \n",
    "        ind+x_dimension+1]\n",
    "    return neighbors"
   ]
  },
  {
   "cell_type": "code",
   "execution_count": 8,
   "metadata": {},
   "outputs": [],
   "source": [
    "# initially find fitness\n",
    "def find_fitness(anneal_list):\n",
    "    fitness = 0\n",
    "    for i in range(len(anneal_list)):\n",
    "        neighbors = find_neighbors(i)\n",
    "        sum_neighbor_score = 0\n",
    "        for index in neighbors:\n",
    "            intersection = [value for value in anneal_list[index][1] if value in anneal_list[i][1]]\n",
    "            if len(anneal_list[index][1]) + len(anneal_list[i][1]) != 0:\n",
    "                jaccard = len(intersection)/(len(anneal_list[index][1]) + len(anneal_list[i][1]))\n",
    "            else:\n",
    "                jaccard = 0.0\n",
    "            sum_neighbor_score += jaccard\n",
    "        hex_list = list(anneal_list[i])\n",
    "        hex_list[3] = sum_neighbor_score\n",
    "        hex_tuple = tuple(hex_list)\n",
    "        anneal_list[i] = hex_tuple\n",
    "        fitness += sum_neighbor_score\n",
    "    return fitness, anneal_list\n",
    "\n",
    "# take indices of swapped hexagons\n",
    "def find_swapped_fitness(anneal_list, swapped_a, swapped_b, old_fitness):\n",
    "    neighbors_a = find_neighbors(swapped_a)\n",
    "    neighbors_b = find_neighbors(swapped_b)\n",
    "    hexagons_to_update = [swapped_a, swapped_b] + neighbors_a + neighbors_b\n",
    "\n",
    "    new_fitness = 0\n",
    "    # Recalculate scores for all hexagons that need updating\n",
    "    for hex in hexagons_to_update:\n",
    "\n",
    "        # subtract out the swapped neighbor fitnesses because they are changing \n",
    "        old_fitness -= anneal_list[hex][3]\n",
    "\n",
    "        neighbors = find_neighbors(hex)\n",
    "        sum_neighbor_score = 0\n",
    "        for index in neighbors:\n",
    "            intersection = [value for value in anneal_list[index][1] if value in anneal_list[hex][1]]\n",
    "            if len(anneal_list[index][1]) + len(anneal_list[hex][1]) != 0:\n",
    "                jaccard = len(intersection)/(len(anneal_list[index][1]) + len(anneal_list[hex][1]))\n",
    "            else:\n",
    "                jaccard = 0.0\n",
    "            sum_neighbor_score += jaccard\n",
    "        hex_list = list(anneal_list[hex])\n",
    "        hex_list[3] = sum_neighbor_score\n",
    "        hex_tuple = tuple(hex_list)\n",
    "        anneal_list[hex] = hex_tuple\n",
    "        new_fitness += sum_neighbor_score\n",
    "    return old_fitness + new_fitness, anneal_list\n"
   ]
  },
  {
   "cell_type": "code",
   "execution_count": 9,
   "metadata": {},
   "outputs": [],
   "source": [
    "def unzip_list(anneal_list):\n",
    "    unzipped_list = zip(*anneal_list)\n",
    "    return list(unzipped_list)"
   ]
  },
  {
   "cell_type": "code",
   "execution_count": 10,
   "metadata": {},
   "outputs": [],
   "source": [
    "def annealing(anneal_list, steps, old_fitness):\n",
    "    # returns unzipped list\n",
    "    for i in range(steps):\n",
    "        index_a = randint(0, num_hex-1)\n",
    "        index_b = randint(0, num_hex-1)\n",
    "        anneal_list[index_a], anneal_list[index_b] = anneal_list[index_b], anneal_list[index_a]\n",
    "        new_fitness, anneal_list = find_swapped_fitness(anneal_list, index_a, index_b, old_fitness)\n",
    "        if new_fitness <= old_fitness:\n",
    "            # swap back\n",
    "            anneal_list[index_a], anneal_list[index_b] = anneal_list[index_b], anneal_list[index_a]\n",
    "        else:\n",
    "            # finalize the swap by resetting old_fitness\n",
    "            old_fitness = new_fitness\n",
    "    return anneal_list"
   ]
  },
  {
   "cell_type": "code",
   "execution_count": 11,
   "metadata": {},
   "outputs": [],
   "source": [
    "# NOTE: your d3 code should basically be a function, in the future it would be best to take it out.\n",
    "\n",
    "def init_chart():\n",
    "  chart_id = 'mychart-' + str(uuid.uuid4())\n",
    "  display(HTML('<script src=\"/static/components/requirejs/require.js\"></script>'))\n",
    "  display(HTML(Template(dedent('''\n",
    "  <script>\n",
    "  require.config({\n",
    "    paths: {\n",
    "      'd3': 'https://cdnjs.cloudflare.com/ajax/libs/d3/5.16.0/d3.min',\n",
    "      'd3-hexbin': 'https://d3js.org/d3-hexbin.v0.2.min',\n",
    "    },\n",
    "    shim: {\n",
    "      'd3-hexbin': ['d3']\n",
    "    }\n",
    "  })\n",
    "\n",
    "  // If we configure mychart via url, we can eliminate this define here\n",
    "  define($chart_id, ['d3', 'd3-hexbin'], function(d3, d3_hexbin) {\n",
    "    return function (figure_id, numA, numB, colorList, libraryList, indices) {\n",
    "      var margin = {top: 50, right: 20, bottom: 20, left: 50},\n",
    "        width = 850 - margin.left - margin.right,\n",
    "        height = 350 - margin.top - margin.bottom;\n",
    "\n",
    "      // append the svg object to the body of the page\n",
    "      var svG = d3.select('#' + figure_id)\n",
    "        .attr(\"width\", width + margin.left + margin.right)\n",
    "        .attr(\"height\", height + margin.top + margin.bottom)\n",
    "        .append(\"g\")\n",
    "          .attr(\"transform\",\n",
    "                \"translate(\" + margin.left + \",\" + margin.top + \")\");\n",
    "      \n",
    "      //The number of columns and rows of the heatmap\n",
    "      var MapColumns = numA,\n",
    "          MapRows = numB;\n",
    "\n",
    "      //The maximum radius the hexagons can have to still fit the screen\n",
    "      var hexRadius = d3.min([width/((MapColumns + 0.5) * Math.sqrt(3)), height/((MapRows + 1/3) * 1.5)]);\n",
    "\n",
    "      //Calculate the center position of each hexagon\n",
    "      var points = [];\n",
    "      for (var i = 0; i < MapRows; i++) {\n",
    "          for (var j = 0; j < MapColumns; j++) {\n",
    "              var x = hexRadius * j * Math.sqrt(3)\n",
    "              //Offset each uneven row by half of a \"hex-width\" to the right\n",
    "              if(i%2 === 1) x += (hexRadius * Math.sqrt(3))/2\n",
    "              var y = hexRadius * i * 1.5\n",
    "              points.push([x,y])\n",
    "          }\n",
    "      }\n",
    "\n",
    "      //Set the hexagon radius\n",
    "      var hexbin = d3_hexbin.hexbin().radius(hexRadius);\n",
    "\n",
    "      svG.append(\"g\")\n",
    "        .selectAll(\".hexagon\")\n",
    "        .data(hexbin(points))\n",
    "        .enter().append(\"path\")\n",
    "        .attr(\"class\", \"hexagon\")\n",
    "        .attr(\"d\", function (d) {\n",
    "            return \"M\" + d.x + \",\" + d.y + hexbin.hexagon();\n",
    "        })\n",
    "        .attr(\"stroke\", \"white\")\n",
    "        .attr(\"stroke-width\", \"1px\")\n",
    "        .style(\"fill\", function (d,i) { return colorList[i]; })\n",
    "        .on(\"mouseover\", mover)\n",
    "        .on(\"mouseout\", mout)\n",
    "        .append(\"svg:title\")\n",
    "        .text(function(d,i) { return libraryList[i].concat(\" \").concat(indices[i]); });\n",
    "\n",
    "      function mover(d) {\n",
    "      d3.select(this)\n",
    "        .transition().duration(10)  \n",
    "        .style(\"fill-opacity\", 0.3)\n",
    "      }\n",
    "\n",
    "      //Mouseout function\n",
    "      function mout(d) { \n",
    "      d3.select(this)\n",
    "        .transition().duration(10)\n",
    "        .style(\"fill-opacity\", 1)\n",
    "      }\n",
    "\n",
    "    }\n",
    "  })\n",
    "  </script>\n",
    "  ''')).substitute({ 'chart_id': repr(chart_id) })))\n",
    "  return chart_id\n",
    "\n",
    "def Canvas(numA, numB, colorList, libraryList, indices):\n",
    "  chart_id = init_chart()\n",
    "  display(HTML(Template(dedent('''\n",
    "  <svg id=$figure_id></svg>\n",
    "  <script>\n",
    "  require([$chart_id], function(mychart) {\n",
    "    mychart($figure_id, $numA, $numB, $colorList, $libraryList, $indices)\n",
    "  })\n",
    "  </script>\n",
    "  ''')).substitute({\n",
    "      'chart_id': repr(chart_id),\n",
    "      'figure_id': repr('fig-' + str(uuid.uuid4())),\n",
    "      'numA': repr(numA),\n",
    "      'numB': repr(numB),\n",
    "      'colorList': repr(color_list),\n",
    "      'libraryList': repr(list(unzipped_anneal_list[0])),\n",
    "      'indices': repr(list(unzipped_anneal_list[2]))\n",
    "  })))"
   ]
  },
  {
   "cell_type": "code",
   "execution_count": 12,
   "metadata": {},
   "outputs": [
    {
     "output_type": "display_data",
     "data": {
      "text/plain": "<IPython.core.display.HTML object>",
      "text/html": "<script src=\"/static/components/requirejs/require.js\"></script>"
     },
     "metadata": {}
    },
    {
     "output_type": "display_data",
     "data": {
      "text/plain": "<IPython.core.display.HTML object>",
      "text/html": "\n<script>\nrequire.config({\n  paths: {\n    'd3': 'https://cdnjs.cloudflare.com/ajax/libs/d3/5.16.0/d3.min',\n    'd3-hexbin': 'https://d3js.org/d3-hexbin.v0.2.min',\n  },\n  shim: {\n    'd3-hexbin': ['d3']\n  }\n})\n\n// If we configure mychart via url, we can eliminate this define here\ndefine('mychart-1043f8e6-1255-48c2-b0d5-8f6c0f77a022', ['d3', 'd3-hexbin'], function(d3, d3_hexbin) {\n  return function (figure_id, numA, numB, colorList, libraryList, indices) {\n    var margin = {top: 50, right: 20, bottom: 20, left: 50},\n      width = 850 - margin.left - margin.right,\n      height = 350 - margin.top - margin.bottom;\n\n    // append the svg object to the body of the page\n    var svG = d3.select('#' + figure_id)\n      .attr(\"width\", width + margin.left + margin.right)\n      .attr(\"height\", height + margin.top + margin.bottom)\n      .append(\"g\")\n        .attr(\"transform\",\n              \"translate(\" + margin.left + \",\" + margin.top + \")\");\n\n    //The number of columns and rows of the heatmap\n    var MapColumns = numA,\n        MapRows = numB;\n\n    //The maximum radius the hexagons can have to still fit the screen\n    var hexRadius = d3.min([width/((MapColumns + 0.5) * Math.sqrt(3)), height/((MapRows + 1/3) * 1.5)]);\n\n    //Calculate the center position of each hexagon\n    var points = [];\n    for (var i = 0; i < MapRows; i++) {\n        for (var j = 0; j < MapColumns; j++) {\n            var x = hexRadius * j * Math.sqrt(3)\n            //Offset each uneven row by half of a \"hex-width\" to the right\n            if(i%2 === 1) x += (hexRadius * Math.sqrt(3))/2\n            var y = hexRadius * i * 1.5\n            points.push([x,y])\n        }\n    }\n\n    //Set the hexagon radius\n    var hexbin = d3_hexbin.hexbin().radius(hexRadius);\n\n    svG.append(\"g\")\n      .selectAll(\".hexagon\")\n      .data(hexbin(points))\n      .enter().append(\"path\")\n      .attr(\"class\", \"hexagon\")\n      .attr(\"d\", function (d) {\n          return \"M\" + d.x + \",\" + d.y + hexbin.hexagon();\n      })\n      .attr(\"stroke\", \"white\")\n      .attr(\"stroke-width\", \"1px\")\n      .style(\"fill\", function (d,i) { return colorList[i]; })\n      .on(\"mouseover\", mover)\n      .on(\"mouseout\", mout)\n      .append(\"svg:title\")\n      .text(function(d,i) { return libraryList[i].concat(\" \").concat(indices[i]); });\n\n    function mover(d) {\n    d3.select(this)\n      .transition().duration(10)  \n      .style(\"fill-opacity\", 0.3)\n    }\n\n    //Mouseout function\n    function mout(d) { \n    d3.select(this)\n      .transition().duration(10)\n      .style(\"fill-opacity\", 1)\n    }\n\n  }\n})\n</script>\n"
     },
     "metadata": {}
    },
    {
     "output_type": "display_data",
     "data": {
      "text/plain": "<IPython.core.display.HTML object>",
      "text/html": "\n<svg id='fig-c0b31e18-87c1-403f-83c0-d3f224c15e82'></svg>\n<script>\nrequire(['mychart-1043f8e6-1255-48c2-b0d5-8f6c0f77a022'], function(mychart) {\n  mychart('fig-c0b31e18-87c1-403f-83c0-d3f224c15e82', 16, 16, ['#000000', '#000000', '#000000', '#000000', '#000000', '#000000', '#740074', '#000000', '#000000', '#000000', '#000000', '#000000', '#000000', '#2e002e', '#000000', '#000000', '#000000', '#000000', '#000000', '#000000', '#000000', '#000000', '#000000', '#000000', '#460046', '#340034', '#000000', '#000000', '#000000', '#000000', '#000000', '#000000', '#370037', '#000000', '#000000', '#000000', '#000000', '#000000', '#3e003e', '#000000', '#000000', '#000000', '#000000', '#000000', '#400040', '#000000', '#160016', '#4b004b', '#000000', '#000000', '#000000', '#000000', '#000000', '#320032', '#000000', '#000000', '#000000', '#000000', '#000000', '#000000', '#2f002f', '#000000', '#000000', '#3b003b', '#000000', '#000000', '#800080', '#000000', '#000000', '#000000', '#000000', '#000000', '#000000', '#490049', '#3d003d', '#000000', '#000000', '#800080', '#000000', '#000000', '#000000', '#000000', '#000000', '#000000', '#4d004d', '#000000', '#000000', '#000000', '#350035', '#000000', '#000000', '#3b003b', '#000000', '#710071', '#3a003a', '#400040', '#000000', '#000000', '#000000', '#890089', '#000000', '#000000', '#000000', '#000000', '#000000', '#000000', '#000000', '#000000', '#000000', '#000000', '#000000', '#400040', '#000000', '#000000', '#000000', '#000000', '#2e002e', '#320032', '#000000', '#000000', '#000000', '#3b003b', '#000000', '#490049', '#000000', '#000000', '#000000', '#000000', '#000000', '#450045', '#000000', '#000000', '#000000', '#5d005d', '#000000', '#000000', '#000000', '#490049', '#790079', '#000000', '#500050', '#000000', '#740074', '#000000', '#1e001e', '#000000', '#000000', '#000000', '#000000', '#500050', '#360036', '#000000', '#000000', '#000000', '#000000', '#000000', '#1e001e', '#4b004b', '#390039', '#000000', '#000000', '#000000', '#000000', '#000000', '#000000', '#350035', '#4d004d', '#000000', '#000000', '#2f002f', '#390039', '#4d004d', '#3b003b', '#000000', '#000000', '#260026', '#2a002a', '#000000', '#680068', '#000000', '#000000', '#000000', '#000000', '#000000', '#000000', '#450045', '#340034', '#000000', '#330033', '#000000', '#000000', '#6f006f', '#000000', '#450045', '#000000', '#000000', '#000000', '#000000', '#450045', '#300030', '#000000', '#000000', '#000000', '#000000', '#000000', '#000000', '#430043', '#000000', '#000000', '#360036', '#000000', '#3b003b', '#000000', '#000000', '#000000', '#000000', '#000000', '#000000', '#000000', '#2d002d', '#000000', '#000000', '#000000', '#310031', '#000000', '#000000', '#310031', '#000000', '#000000', '#000000', '#000000', '#3b003b', '#000000', '#3b003b', '#000000', '#000000', '#000000', '#000000', '#000000', '#000000', '#000000', '#000000', '#000000', '#000000', '#000000', '#2d002d', '#000000', '#000000', '#000000', '#000000', '#000000', '#000000', '#000000', '#000000', '#000000', '#000000'], ['DEATH PATHWAY', 'TCAPOPTOSIS PATHWAY', 'CCR3 PATHWAY', 'NEUTROPHIL PATHWAY', 'ALTERNATIVE PATHWAY', 'PGC1A PATHWAY', 'PML PATHWAY', 'CALCINEURIN PATHWAY', 'RAN PATHWAY', 'RANKL PATHWAY', 'D4GDI PATHWAY', 'KREB PATHWAY', 'TERC PATHWAY', 'TNFR1 PATHWAY', 'INTRINSIC PATHWAY', 'RARRXR PATHWAY', 'EXTRINSIC PATHWAY', 'ECM PATHWAY', 'RAS PATHWAY', 'SKP2E2F PATHWAY', 'NO2IL12 PATHWAY', 'GLEEVEC PATHWAY', 'CIRCADIAN PATHWAY', 'BBCELL PATHWAY', 'KERATINOCYTE PATHWAY', 'CHEMICAL PATHWAY', 'HIF PATHWAY', 'METHIONINE PATHWAY', 'CASPASE PATHWAY', 'BAD PATHWAY', 'TSP1 PATHWAY', 'ARENRF2 PATHWAY', 'TGFB PATHWAY', 'CACAM PATHWAY', 'GPCR PATHWAY', 'BLYMPHOCYTE PATHWAY', 'LONGEVITY PATHWAY', 'REELIN PATHWAY', 'PS1 PATHWAY', 'RAB PATHWAY', 'CERAMIDE PATHWAY', 'SHH PATHWAY', 'SRCRPTP PATHWAY', 'PROTEASOME PATHWAY', 'RB PATHWAY', 'CDK5 PATHWAY', 'MAPK PATHWAY', 'EEA1 PATHWAY', 'PKC PATHWAY', 'GABA PATHWAY', 'CREM PATHWAY', 'CCR5 PATHWAY', 'DNAFRAGMENT PATHWAY', 'NTHI PATHWAY', 'CFTR PATHWAY', 'PAR1 PATHWAY', 'PDGF PATHWAY', 'IL3 PATHWAY', 'ETC PATHWAY', 'SLRP PATHWAY', 'EGF PATHWAY', 'THELPER PATHWAY', 'IL22BP PATHWAY', 'MTA3 PATHWAY', 'BIOPEPTIDES PATHWAY', 'MPR PATHWAY', 'IL1R PATHWAY', 'RAC1 PATHWAY', 'GCR PATHWAY', 'SPPA PATHWAY', 'RHO PATHWAY', 'PYK2 PATHWAY', 'UREACYCLE PATHWAY', 'PLK3 PATHWAY', 'STEM PATHWAY', 'ASBCELL PATHWAY', 'CTLA4 PATHWAY', 'IL10 PATHWAY', 'FOSB PATHWAY', 'CDC42RAC PATHWAY', 'EIF4 PATHWAY', 'DC PATHWAY', 'ACTINY PATHWAY', 'MYOSIN PATHWAY', 'BETAOXIDATION PATHWAY', 'MITR PATHWAY', 'LEPTIN PATHWAY', 'TCRA PATHWAY', 'TOB1 PATHWAY', 'PLCD PATHWAY', 'IL7 PATHWAY', 'CDMAC PATHWAY', 'FMLP PATHWAY', 'TEL PATHWAY', 'IL17 PATHWAY', 'CBL PATHWAY', 'HBX PATHWAY', 'CHREBP PATHWAY', 'AKT PATHWAY', 'INFLAM PATHWAY', 'PTC1 PATHWAY', 'TUBBY PATHWAY', 'BOTULIN PATHWAY', 'TALL1 PATHWAY', 'COMP PATHWAY', 'FAS PATHWAY', 'ION PATHWAY', 'IFNA PATHWAY', 'AGPCR PATHWAY', 'PARKIN PATHWAY', 'VITCB PATHWAY', 'CELL2CELL PATHWAY', 'ARGININEC PATHWAY', 'CD40 PATHWAY', 'IGF1 PATHWAY', 'IL2RB PATHWAY', 'NKT PATHWAY', 'G2 PATHWAY', 'BCR PATHWAY', 'TCRMOLECULE', 'FEEDER PATHWAY', 'P53 PATHWAY', 'AMI PATHWAY', 'VOBESITY PATHWAY', 'CDC25 PATHWAY', 'RECK PATHWAY', 'CARM1 PATHWAY', 'MTOR PATHWAY', 'TH1TH2 PATHWAY', 'RNA PATHWAY', 'FBW7 PATHWAY', 'EIF2 PATHWAY', 'LYMPHOCYTE PATHWAY', 'G1 PATHWAY', 'ACE2 PATHWAY', 'ERK5 PATHWAY', 'AKAP13 PATHWAY', 'TERT PATHWAY', 'ERYTH PATHWAY', 'INSULIN PATHWAY', 'ERBB3 PATHWAY', 'CELLCYCLE PATHWAY', 'LAIR PATHWAY', 'SALMONELLA PATHWAY', 'HIVNEF PATHWAY', 'HDAC PATHWAY', 'ERBB4 PATHWAY', 'AHSP PATHWAY', 'FLUMAZENIL PATHWAY', 'ALK PATHWAY', 'ATM PATHWAY', 'P35ALZHEIMERS PATHWAY', 'CTL PATHWAY', 'ACETAMINOPHEN PATHWAY', 'TPO PATHWAY', 'SET PATHWAY', 'PPARA PATHWAY', 'PELP1 PATHWAY', 'SPRY PATHWAY', 'PTDINS PATHWAY', 'UCALPAIN PATHWAY', 'CLASSIC PATHWAY', 'PEPI PATHWAY', '41BB PATHWAY', 'AKAPCENTROSOME PATHWAY', 'IL6 PATHWAY', 'MSP PATHWAY', 'MALATEX PATHWAY', 'EDG1 PATHWAY', 'GSK3 PATHWAY', 'CARDIACEGF PATHWAY', 'LDL PATHWAY', 'RELA PATHWAY', 'MET PATHWAY', 'TNFR2 PATHWAY', 'P38MAPK PATHWAY', 'AT1R PATHWAY', 'NO1 PATHWAY', 'CYTOKINE PATHWAY', 'TRKA PATHWAY', 'CSK PATHWAY', 'CK1 PATHWAY', 'NOTCH PATHWAY', 'VEGF PATHWAY', 'S1P PATHWAY', 'IL5 PATHWAY', 'ATRBRCA PATHWAY', 'NOS1 PATHWAY', 'NFKB PATHWAY', 'SARS PATHWAY', 'GLYCOLYSIS PATHWAY', 'TID PATHWAY', 'PLC PATHWAY', 'FREE PATHWAY', 'EPO PATHWAY', 'DREAM PATHWAY', 'FIBRINOLYSIS PATHWAY', 'IFNG PATHWAY', 'SODD PATHWAY', 'WNT PATHWAY', 'PTEN PATHWAY', 'CXCR4 PATHWAY', 'GH PATHWAY', 'ARAP PATHWAY', 'NFAT PATHWAY', 'NGF PATHWAY', 'EGFR SMRTE PATHWAY', 'IL2 PATHWAY', 'MRP PATHWAY', 'P53HYPOXIA PATHWAY', 'FCER1 PATHWAY', 'PITX2 PATHWAY', 'GATA3 PATHWAY', 'IGF1R PATHWAY', 'CREB PATHWAY', 'IL12 PATHWAY', 'IL18 PATHWAY', 'EPHA4 PATHWAY', 'INTEGRIN PATHWAY', 'ERK PATHWAY', 'RACCYCD PATHWAY', 'P27 PATHWAY', 'IL4 PATHWAY', 'STRESS PATHWAY', 'PLCE PATHWAY', 'EOSINOPHILS PATHWAY', 'MCALPAIN PATHWAY', 'MEF2D PATHWAY', 'NEUROTRANSMITTERS PATHWAY', 'MITOCHONDRIA PATHWAY', 'STAT3 PATHWAY', 'ARF PATHWAY', 'NDKDYNAMIN PATHWAY', 'HSP27 PATHWAY', 'VIP PATHWAY', 'EPONFKB PATHWAY', 'NKCELLS PATHWAY', 'FXR PATHWAY', 'TOLL PATHWAY', 'ETS PATHWAY', 'ACH PATHWAY', 'IGF1MTOR PATHWAY', 'MONOCYTE PATHWAY', 'GS PATHWAY', 'TCR PATHWAY', 'CARM ER PATHWAY', 'HCMV PATHWAY', 'PPARG PATHWAY', 'TCYTOTOXIC PATHWAY'], [0.0, 0.0, 0.0, 0.0, 0.0, 0.0, 0.04545, 0.0, 0.0, 0.0, 0.0, 0.0, 0.0, 0.01786, 0.0, 0.0, 0.0, 0.0, 0.0, 0.0, 0.0, 0.0, 0.0, 0.0, 0.0274, 0.02041, 0.0, 0.0, 0.0, 0.0, 0.0, 0.0, 0.02174, 0.0, 0.0, 0.0, 0.0, 0.0, 0.02439, 0.0, 0.0, 0.0, 0.0, 0.0, 0.025, 0.0, 0.00877, 0.02941, 0.0, 0.0, 0.0, 0.0, 0.0, 0.01961, 0.0, 0.0, 0.0, 0.0, 0.0, 0.0, 0.01852, 0.0, 0.0, 0.02326, 0.0, 0.0, 0.05, 0.0, 0.0, 0.0, 0.0, 0.0, 0.0, 0.02857, 0.02381, 0.0, 0.0, 0.05, 0.0, 0.0, 0.0, 0.0, 0.0, 0.0, 0.0303, 0.0, 0.0, 0.0, 0.02083, 0.0, 0.0, 0.02326, 0.0, 0.04444, 0.02273, 0.025, 0.0, 0.0, 0.0, 0.05357, 0.0, 0.0, 0.0, 0.0, 0.0, 0.0, 0.0, 0.0, 0.0, 0.0, 0.0, 0.025, 0.0, 0.0, 0.0, 0.0, 0.01786, 0.01961, 0.0, 0.0, 0.0, 0.02326, 0.0, 0.02857, 0.0, 0.0, 0.0, 0.0, 0.0, 0.02703, 0.0, 0.0, 0.0, 0.03636, 0.0, 0.0, 0.0, 0.02857, 0.04762, 0.0, 0.03125, 0.0, 0.04545, 0.0, 0.01176, 0.0, 0.0, 0.0, 0.0, 0.03125, 0.02128, 0.0, 0.0, 0.0, 0.0, 0.0, 0.0119, 0.02941, 0.02222, 0.0, 0.0, 0.0, 0.0, 0.0, 0.0, 0.02083, 0.0303, 0.0, 0.0, 0.01852, 0.02222, 0.0303, 0.02326, 0.0, 0.0, 0.01493, 0.01639, 0.0, 0.04082, 0.0, 0.0, 0.0, 0.0, 0.0, 0.0, 0.02703, 0.02041, 0.0, 0.02, 0.0, 0.0, 0.04348, 0.0, 0.02703, 0.0, 0.0, 0.0, 0.0, 0.02703, 0.01887, 0.0, 0.0, 0.0, 0.0, 0.0, 0.0, 0.02632, 0.0, 0.0, 0.02128, 0.0, 0.02326, 0.0, 0.0, 0.0, 0.0, 0.0, 0.0, 0.0, 0.01754, 0.0, 0.0, 0.0, 0.01923, 0.0, 0.0, 0.01923, 0.0, 0.0, 0.0, 0.0, 0.02326, 0.0, 0.02326, 0.0, 0.0, 0.0, 0.0, 0.0, 0.0, 0.0, 0.0, 0.0, 0.0, 0.0, 0.01754, 0.0, 0.0, 0.0])\n})\n</script>\n"
     },
     "metadata": {}
    }
   ],
   "source": [
    "color_list = get_color(anneal_list)\n",
    "Canvas(x_dimension, y_dimension, color_list, list(unzipped_anneal_list[0]), list(unzipped_anneal_list[2]))"
   ]
  },
  {
   "cell_type": "code",
   "execution_count": 19,
   "metadata": {
    "tags": [
     "outputPrepend"
    ]
   },
   "outputs": [
    {
     "output_type": "stream",
     "name": "stdout",
     "text": "42.05412080895022\nannealing........\n42.78672378293081\n"
    }
   ],
   "source": [
    "print(find_fitness(anneal_list)[0])\n",
    "print(\"annealing........\")\n",
    "anneal_list = annealing(anneal_list, 100000, find_fitness(anneal_list)[0])\n",
    "print(find_fitness(anneal_list)[0])"
   ]
  },
  {
   "cell_type": "code",
   "execution_count": 20,
   "metadata": {},
   "outputs": [
    {
     "output_type": "display_data",
     "data": {
      "text/plain": "<IPython.core.display.HTML object>",
      "text/html": "<script src=\"/static/components/requirejs/require.js\"></script>"
     },
     "metadata": {}
    },
    {
     "output_type": "display_data",
     "data": {
      "text/plain": "<IPython.core.display.HTML object>",
      "text/html": "\n<script>\nrequire.config({\n  paths: {\n    'd3': 'https://cdnjs.cloudflare.com/ajax/libs/d3/5.16.0/d3.min',\n    'd3-hexbin': 'https://d3js.org/d3-hexbin.v0.2.min',\n  },\n  shim: {\n    'd3-hexbin': ['d3']\n  }\n})\n\n// If we configure mychart via url, we can eliminate this define here\ndefine('mychart-09fe853f-7640-40e2-9bdc-f00929d32c71', ['d3', 'd3-hexbin'], function(d3, d3_hexbin) {\n  return function (figure_id, numA, numB, colorList, libraryList, indices) {\n    var margin = {top: 50, right: 20, bottom: 20, left: 50},\n      width = 850 - margin.left - margin.right,\n      height = 350 - margin.top - margin.bottom;\n\n    // append the svg object to the body of the page\n    var svG = d3.select('#' + figure_id)\n      .attr(\"width\", width + margin.left + margin.right)\n      .attr(\"height\", height + margin.top + margin.bottom)\n      .append(\"g\")\n        .attr(\"transform\",\n              \"translate(\" + margin.left + \",\" + margin.top + \")\");\n\n    //The number of columns and rows of the heatmap\n    var MapColumns = numA,\n        MapRows = numB;\n\n    //The maximum radius the hexagons can have to still fit the screen\n    var hexRadius = d3.min([width/((MapColumns + 0.5) * Math.sqrt(3)), height/((MapRows + 1/3) * 1.5)]);\n\n    //Calculate the center position of each hexagon\n    var points = [];\n    for (var i = 0; i < MapRows; i++) {\n        for (var j = 0; j < MapColumns; j++) {\n            var x = hexRadius * j * Math.sqrt(3)\n            //Offset each uneven row by half of a \"hex-width\" to the right\n            if(i%2 === 1) x += (hexRadius * Math.sqrt(3))/2\n            var y = hexRadius * i * 1.5\n            points.push([x,y])\n        }\n    }\n\n    //Set the hexagon radius\n    var hexbin = d3_hexbin.hexbin().radius(hexRadius);\n\n    svG.append(\"g\")\n      .selectAll(\".hexagon\")\n      .data(hexbin(points))\n      .enter().append(\"path\")\n      .attr(\"class\", \"hexagon\")\n      .attr(\"d\", function (d) {\n          return \"M\" + d.x + \",\" + d.y + hexbin.hexagon();\n      })\n      .attr(\"stroke\", \"white\")\n      .attr(\"stroke-width\", \"1px\")\n      .style(\"fill\", function (d,i) { return colorList[i]; })\n      .on(\"mouseover\", mover)\n      .on(\"mouseout\", mout)\n      .append(\"svg:title\")\n      .text(function(d,i) { return libraryList[i].concat(\" \").concat(indices[i]); });\n\n    function mover(d) {\n    d3.select(this)\n      .transition().duration(10)  \n      .style(\"fill-opacity\", 0.3)\n    }\n\n    //Mouseout function\n    function mout(d) { \n    d3.select(this)\n      .transition().duration(10)\n      .style(\"fill-opacity\", 1)\n    }\n\n  }\n})\n</script>\n"
     },
     "metadata": {}
    },
    {
     "output_type": "display_data",
     "data": {
      "text/plain": "<IPython.core.display.HTML object>",
      "text/html": "\n<svg id='fig-5755c603-433c-4aeb-ac38-b990fc25abb2'></svg>\n<script>\nrequire(['mychart-09fe853f-7640-40e2-9bdc-f00929d32c71'], function(mychart) {\n  mychart('fig-5755c603-433c-4aeb-ac38-b990fc25abb2', 16, 16, ['#000000', '#000000', '#3d003d', '#800080', '#000000', '#4b004b', '#500050', '#000000', '#000000', '#000000', '#000000', '#000000', '#000000', '#000000', '#000000', '#000000', '#000000', '#000000', '#000000', '#400040', '#450045', '#000000', '#000000', '#000000', '#3b003b', '#000000', '#000000', '#000000', '#350035', '#000000', '#000000', '#000000', '#000000', '#450045', '#000000', '#000000', '#000000', '#000000', '#000000', '#000000', '#000000', '#390039', '#000000', '#000000', '#300030', '#000000', '#000000', '#000000', '#4d004d', '#000000', '#000000', '#740074', '#000000', '#000000', '#000000', '#890089', '#000000', '#000000', '#3b003b', '#000000', '#2d002d', '#000000', '#000000', '#000000', '#000000', '#000000', '#000000', '#3b003b', '#800080', '#000000', '#3a003a', '#000000', '#000000', '#000000', '#000000', '#2a002a', '#4b004b', '#000000', '#000000', '#000000', '#000000', '#000000', '#000000', '#740074', '#2f002f', '#000000', '#000000', '#000000', '#000000', '#000000', '#000000', '#000000', '#000000', '#000000', '#000000', '#000000', '#260026', '#000000', '#000000', '#000000', '#000000', '#000000', '#000000', '#000000', '#000000', '#350035', '#1e001e', '#000000', '#400040', '#000000', '#000000', '#320032', '#160016', '#320032', '#000000', '#000000', '#710071', '#000000', '#000000', '#000000', '#450045', '#000000', '#340034', '#000000', '#500050', '#000000', '#000000', '#000000', '#000000', '#000000', '#3b003b', '#000000', '#000000', '#000000', '#000000', '#000000', '#000000', '#3b003b', '#360036', '#360036', '#000000', '#000000', '#000000', '#3b003b', '#000000', '#000000', '#000000', '#000000', '#2f002f', '#000000', '#400040', '#000000', '#000000', '#000000', '#000000', '#000000', '#000000', '#000000', '#460046', '#000000', '#2e002e', '#310031', '#000000', '#3b003b', '#000000', '#370037', '#490049', '#6f006f', '#000000', '#330033', '#680068', '#000000', '#000000', '#000000', '#000000', '#000000', '#000000', '#000000', '#000000', '#000000', '#000000', '#000000', '#000000', '#000000', '#000000', '#310031', '#4d004d', '#000000', '#000000', '#000000', '#000000', '#000000', '#000000', '#000000', '#000000', '#5d005d', '#000000', '#000000', '#450045', '#000000', '#000000', '#000000', '#000000', '#000000', '#000000', '#000000', '#000000', '#000000', '#000000', '#000000', '#000000', '#000000', '#000000', '#000000', '#000000', '#000000', '#2e002e', '#000000', '#430043', '#000000', '#490049', '#490049', '#000000', '#000000', '#000000', '#000000', '#000000', '#4d004d', '#000000', '#000000', '#000000', '#000000', '#000000', '#000000', '#000000', '#000000', '#000000', '#000000', '#000000', '#2d002d', '#000000', '#000000', '#790079', '#000000', '#340034', '#000000', '#000000', '#000000', '#000000', '#000000', '#000000', '#000000', '#3e003e', '#390039', '#000000', '#1e001e'], ['CELL2CELL PATHWAY', 'SET PATHWAY', 'IL1R PATHWAY', 'RELA PATHWAY', 'VIP PATHWAY', 'IL6 PATHWAY', 'CXCR4 PATHWAY', 'PYK2 PATHWAY', 'MEF2D PATHWAY', '', 'NKT PATHWAY', 'ECM PATHWAY', 'CSK PATHWAY', 'VOBESITY PATHWAY', 'IL12 PATHWAY', 'MET PATHWAY', 'FIBRINOLYSIS PATHWAY', 'FMLP PATHWAY', 'IL5 PATHWAY', 'CD40 PATHWAY', 'LONGEVITY PATHWAY', 'IGF1R PATHWAY', 'BAD PATHWAY', 'HCMV PATHWAY', 'PTEN PATHWAY', 'CHREBP PATHWAY', 'TALL1 PATHWAY', 'AMI PATHWAY', 'LYMPHOCYTE PATHWAY', 'ACTINY PATHWAY', '', 'FEEDER PATHWAY', 'RAN PATHWAY', 'EPO PATHWAY', 'RB PATHWAY', 'IL22BP PATHWAY', 'AKAPCENTROSOME PATHWAY', 'TEL PATHWAY', 'RACCYCD PATHWAY', 'CDC25 PATHWAY', 'LEPTIN PATHWAY', 'ERYTH PATHWAY', 'P53 PATHWAY', 'DC PATHWAY', 'PTC1 PATHWAY', 'SALMONELLA PATHWAY', 'BIOPEPTIDES PATHWAY', 'SODD PATHWAY', 'MALATEX PATHWAY', 'G1 PATHWAY', 'TGFB PATHWAY', 'PELP1 PATHWAY', 'EXTRINSIC PATHWAY', 'INFLAM PATHWAY', 'IL3 PATHWAY', 'NO1 PATHWAY', 'P53HYPOXIA PATHWAY', 'INTEGRIN PATHWAY', 'HIF PATHWAY', 'STRESS PATHWAY', 'GLYCOLYSIS PATHWAY', 'PAR1 PATHWAY', 'TCYTOTOXIC PATHWAY', 'CASPASE PATHWAY', 'SHH PATHWAY', 'SARS PATHWAY', 'IFNG PATHWAY', 'NO2IL12 PATHWAY', 'RECK PATHWAY', 'ARAP PATHWAY', 'PPARG PATHWAY', 'GCR PATHWAY', 'PLC PATHWAY', 'CLASSIC PATHWAY', 'NFKB PATHWAY', 'ION PATHWAY', 'MYOSIN PATHWAY', 'CK1 PATHWAY', 'TCRA PATHWAY', 'MITOCHONDRIA PATHWAY', 'IL2 PATHWAY', 'TERC PATHWAY', 'IL18 PATHWAY', 'TCR PATHWAY', 'UREACYCLE PATHWAY', 'ARGININEC PATHWAY', '', 'ATRBRCA PATHWAY', 'ERBB4 PATHWAY', 'PKC PATHWAY', 'FBW7 PATHWAY', 'SRCRPTP PATHWAY', 'GH PATHWAY', 'EIF4 PATHWAY', 'DREAM PATHWAY', 'GABA PATHWAY', 'MAPK PATHWAY', 'KREB PATHWAY', 'PPARA PATHWAY', 'ATM PATHWAY', 'TID PATHWAY', 'DNAFRAGMENT PATHWAY', 'ETC PATHWAY', 'GS PATHWAY', 'EIF2 PATHWAY', 'AHSP PATHWAY', 'NTHI PATHWAY', 'NKCELLS PATHWAY', 'CYTOKINE PATHWAY', '41BB PATHWAY', 'COMP PATHWAY', 'IL7 PATHWAY', 'NEUTROPHIL PATHWAY', 'CTL PATHWAY', 'CREB PATHWAY', 'FREE PATHWAY', 'CARM1 PATHWAY', 'FAS PATHWAY', 'THELPER PATHWAY', 'P35ALZHEIMERS PATHWAY', 'MTA3 PATHWAY', 'METHIONINE PATHWAY', 'RARRXR PATHWAY', 'PLCD PATHWAY', 'ERBB3 PATHWAY', 'SLRP PATHWAY', 'VITCB PATHWAY', 'MTOR PATHWAY', 'AGPCR PATHWAY', 'MCALPAIN PATHWAY', 'ERK5 PATHWAY', 'AKT PATHWAY', 'RAS PATHWAY', 'PS1 PATHWAY', 'TNFR2 PATHWAY', 'PITX2 PATHWAY', 'P27 PATHWAY', 'GSK3 PATHWAY', 'S1P PATHWAY', 'FCER1 PATHWAY', 'GATA3 PATHWAY', 'ACH PATHWAY', 'RAB PATHWAY', 'CELLCYCLE PATHWAY', 'SPPA PATHWAY', 'EPHA4 PATHWAY', 'PARKIN PATHWAY', 'P38MAPK PATHWAY', 'HDAC PATHWAY', 'PTDINS PATHWAY', 'WNT PATHWAY', 'ACETAMINOPHEN PATHWAY', 'GLEEVEC PATHWAY', 'REELIN PATHWAY', 'MPR PATHWAY', 'EDG1 PATHWAY', 'CARM ER PATHWAY', 'TUBBY PATHWAY', 'ASBCELL PATHWAY', 'FXR PATHWAY', 'PLCE PATHWAY', 'TOB1 PATHWAY', 'DEATH PATHWAY', 'EGFR SMRTE PATHWAY', 'SKP2E2F PATHWAY', 'ACE2 PATHWAY', 'EOSINOPHILS PATHWAY', 'RAC1 PATHWAY', 'HBX PATHWAY', 'TOLL PATHWAY', 'LAIR PATHWAY', 'IL2RB PATHWAY', 'IFNA PATHWAY', 'RANKL PATHWAY', 'CHEMICAL PATHWAY', 'BCR PATHWAY', 'IL17 PATHWAY', 'CERAMIDE PATHWAY', 'STAT3 PATHWAY', 'SPRY PATHWAY', 'TCRMOLECULE', 'LDL PATHWAY', 'PEPI PATHWAY', 'FOSB PATHWAY', 'CDC42RAC PATHWAY', 'CREM PATHWAY', 'HIVNEF PATHWAY', 'ALTERNATIVE PATHWAY', 'AT1R PATHWAY', 'TRKA PATHWAY', 'CDK5 PATHWAY', 'INSULIN PATHWAY', 'CTLA4 PATHWAY', 'BOTULIN PATHWAY', 'BLYMPHOCYTE PATHWAY', 'AKAP13 PATHWAY', 'NEUROTRANSMITTERS PATHWAY', 'CALCINEURIN PATHWAY', 'CACAM PATHWAY', 'PGC1A PATHWAY', 'RHO PATHWAY', 'ETS PATHWAY', 'CFTR PATHWAY', 'ALK PATHWAY', 'NFAT PATHWAY', 'TPO PATHWAY', 'TSP1 PATHWAY', 'EGF PATHWAY', 'NOTCH PATHWAY', '', 'CARDIACEGF PATHWAY', 'HSP27 PATHWAY', '', 'ARENRF2 PATHWAY', 'PROTEASOME PATHWAY', 'IL10 PATHWAY', 'BETAOXIDATION PATHWAY', 'MONOCYTE PATHWAY', 'MRP PATHWAY', 'IGF1MTOR PATHWAY', 'PDGF PATHWAY', 'TH1TH2 PATHWAY', 'VEGF PATHWAY', 'CIRCADIAN PATHWAY', 'STEM PATHWAY', 'CCR5 PATHWAY', 'TERT PATHWAY', 'TNFR1 PATHWAY', 'D4GDI PATHWAY', 'NDKDYNAMIN PATHWAY', '', 'MITR PATHWAY', 'IGF1 PATHWAY', 'NOS1 PATHWAY', 'EEA1 PATHWAY', 'CBL PATHWAY', 'ERK PATHWAY', 'PLK3 PATHWAY', 'G2 PATHWAY', 'KERATINOCYTE PATHWAY', 'TCAPOPTOSIS PATHWAY', 'MSP PATHWAY', 'BBCELL PATHWAY', 'UCALPAIN PATHWAY', 'IL4 PATHWAY', 'FLUMAZENIL PATHWAY', 'GPCR PATHWAY', 'EPONFKB PATHWAY', '', 'CCR3 PATHWAY', 'ARF PATHWAY', 'PML PATHWAY', 'RNA PATHWAY', 'INTRINSIC PATHWAY', 'NGF PATHWAY', 'CDMAC PATHWAY'], [0.025, 0.0, 0.05, 0.02326, 0.0, 0.02083, 0.0, 0.0, 0.0, 0.0, 0.01786, 0.0, 0.0, 0.02857, 0.0, 0.0, 0.0, 0.0, 0.02703, 0.0, 0.0, 0.0, 0.0, 0.0, 0.0, 0.0, 0.0, 0.0, 0.0, 0.0, 0.0, 0.0, 0.0, 0.0, 0.025, 0.0, 0.0, 0.04444, 0.0, 0.0, 0.0, 0.04762, 0.02326, 0.0, 0.0, 0.0, 0.0, 0.02703, 0.0, 0.03636, 0.02174, 0.02941, 0.0, 0.05357, 0.0, 0.0, 0.02128, 0.0, 0.0, 0.01923, 0.0, 0.0, 0.0, 0.0, 0.0, 0.0, 0.0, 0.0, 0.0, 0.0, 0.0, 0.0, 0.0, 0.0, 0.02, 0.0, 0.0, 0.0, 0.0, 0.0, 0.0, 0.0, 0.0, 0.0, 0.0, 0.0, 0.0, 0.02041, 0.0, 0.0, 0.0, 0.0, 0.0, 0.0, 0.0, 0.0, 0.00877, 0.0, 0.0119, 0.02128, 0.04348, 0.0, 0.0, 0.0, 0.0, 0.0, 0.01961, 0.0, 0.04082, 0.0, 0.0, 0.0, 0.0, 0.0, 0.0, 0.02703, 0.0, 0.0, 0.0, 0.0, 0.02326, 0.0, 0.0, 0.0, 0.03125, 0.0, 0.0, 0.0, 0.0, 0.01923, 0.0, 0.0, 0.0, 0.02439, 0.0, 0.02326, 0.0, 0.01852, 0.0, 0.0, 0.0, 0.0, 0.0, 0.0, 0.0, 0.0, 0.0, 0.01493, 0.0, 0.0, 0.01887, 0.0, 0.0, 0.0, 0.0, 0.0, 0.01754, 0.0, 0.0, 0.0, 0.0, 0.02083, 0.0, 0.02632, 0.0, 0.0, 0.0, 0.0, 0.0, 0.0, 0.04545, 0.0, 0.0, 0.0, 0.02041, 0.0, 0.02273, 0.0, 0.0, 0.02222, 0.0, 0.0303, 0.0, 0.0, 0.0, 0.0, 0.01176, 0.0, 0.01639, 0.0, 0.0, 0.0, 0.0, 0.0, 0.0, 0.0, 0.0, 0.0, 0.0, 0.0, 0.0, 0.0, 0.0, 0.03125, 0.0, 0.0, 0.0, 0.01852, 0.0, 0.0, 0.02222, 0.02326, 0.0, 0.0, 0.0, 0.05, 0.0303, 0.0, 0.0, 0.0, 0.0, 0.0, 0.0, 0.0, 0.02381, 0.0, 0.02857, 0.01786, 0.0, 0.0, 0.0, 0.0, 0.0, 0.0, 0.02941, 0.025, 0.01754, 0.02857, 0.01961, 0.0274, 0.0, 0.0303, 0.0, 0.0, 0.0, 0.0, 0.0, 0.0, 0.0, 0.0, 0.02326, 0.04545, 0.02703, 0.0, 0.0, 0.02326])\n})\n</script>\n"
     },
     "metadata": {}
    }
   ],
   "source": [
    "color_list = get_color(anneal_list)\n",
    "Canvas(x_dimension, y_dimension, get_color(anneal_list), list(unzipped_anneal_list[0]), list(unzipped_anneal_list[2]))"
   ]
  },
  {
   "cell_type": "code",
   "execution_count": 15,
   "metadata": {
    "tags": [
     "outputPrepend"
    ]
   },
   "outputs": [
    {
     "output_type": "stream",
     "name": "stdout",
     "text": "38.21796019354641\n38.21796019354641\n"
    }
   ],
   "source": [
    "print(sum(unzip_list(anneal_list)[3]))\n",
    "print(find_fitness(anneal_list)[0])"
   ]
  },
  {
   "cell_type": "code",
   "execution_count": null,
   "metadata": {},
   "outputs": [],
   "source": []
  }
 ],
 "metadata": {
  "kernelspec": {
   "display_name": "Python 3.7.6 64-bit ('base': conda)",
   "language": "python",
   "name": "python37664bitbasecondad81f4d096e8b4b9885e3d702e0bb3be1"
  },
  "language_info": {
   "codemirror_mode": {
    "name": "ipython",
    "version": 3
   },
   "file_extension": ".py",
   "mimetype": "text/x-python",
   "name": "python",
   "nbconvert_exporter": "python",
   "pygments_lexer": "ipython3",
   "version": "3.7.6-final"
  }
 },
 "nbformat": 4,
 "nbformat_minor": 2
}